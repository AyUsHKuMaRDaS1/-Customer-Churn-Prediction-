{
 "cells": [
  {
   "cell_type": "code",
   "execution_count": 9,
   "id": "a5612b94",
   "metadata": {
    "execution": {
     "iopub.execute_input": "2024-03-12T15:57:12.418682Z",
     "iopub.status.busy": "2024-03-12T15:57:12.418177Z",
     "iopub.status.idle": "2024-03-12T15:57:13.342167Z",
     "shell.execute_reply": "2024-03-12T15:57:13.341135Z"
    },
    "papermill": {
     "duration": 0.945887,
     "end_time": "2024-03-12T15:57:13.345038",
     "exception": false,
     "start_time": "2024-03-12T15:57:12.399151",
     "status": "completed"
    },
    "tags": []
   },
   "outputs": [],
   "source": [
    "import pandas as pd\n",
    "import numpy as np\n",
    "from matplotlib import pyplot as plt\n",
    "%matplotlib inline\n",
    "import os"
   ]
  },
  {
   "cell_type": "code",
   "execution_count": 10,
   "id": "5b77b9ac",
   "metadata": {
    "execution": {
     "iopub.execute_input": "2024-03-12T15:57:13.377640Z",
     "iopub.status.busy": "2024-03-12T15:57:13.377139Z",
     "iopub.status.idle": "2024-03-12T15:57:13.387564Z",
     "shell.execute_reply": "2024-03-12T15:57:13.386309Z"
    },
    "papermill": {
     "duration": 0.030013,
     "end_time": "2024-03-12T15:57:13.390598",
     "exception": false,
     "start_time": "2024-03-12T15:57:13.360585",
     "status": "completed"
    },
    "tags": []
   },
   "outputs": [],
   "source": [
    "df = pd.read_csv(\"customer_churn.csv\")\n"
   ]
  },
  {
   "cell_type": "code",
   "execution_count": 11,
   "id": "5a0b287f",
   "metadata": {
    "execution": {
     "iopub.execute_input": "2024-03-12T15:57:13.424070Z",
     "iopub.status.busy": "2024-03-12T15:57:13.423461Z",
     "iopub.status.idle": "2024-03-12T15:57:13.514239Z",
     "shell.execute_reply": "2024-03-12T15:57:13.513040Z"
    },
    "papermill": {
     "duration": 0.11048,
     "end_time": "2024-03-12T15:57:13.516875",
     "exception": false,
     "start_time": "2024-03-12T15:57:13.406395",
     "status": "completed"
    },
    "tags": []
   },
   "outputs": [
    {
     "data": {
      "text/html": [
       "<div>\n",
       "<style scoped>\n",
       "    .dataframe tbody tr th:only-of-type {\n",
       "        vertical-align: middle;\n",
       "    }\n",
       "\n",
       "    .dataframe tbody tr th {\n",
       "        vertical-align: top;\n",
       "    }\n",
       "\n",
       "    .dataframe thead th {\n",
       "        text-align: right;\n",
       "    }\n",
       "</style>\n",
       "<table border=\"1\" class=\"dataframe\">\n",
       "  <thead>\n",
       "    <tr style=\"text-align: right;\">\n",
       "      <th></th>\n",
       "      <th>customerID</th>\n",
       "      <th>gender</th>\n",
       "      <th>SeniorCitizen</th>\n",
       "      <th>Partner</th>\n",
       "      <th>Dependents</th>\n",
       "      <th>tenure</th>\n",
       "      <th>PhoneService</th>\n",
       "      <th>MultipleLines</th>\n",
       "      <th>InternetService</th>\n",
       "      <th>OnlineSecurity</th>\n",
       "      <th>...</th>\n",
       "      <th>DeviceProtection</th>\n",
       "      <th>TechSupport</th>\n",
       "      <th>StreamingTV</th>\n",
       "      <th>StreamingMovies</th>\n",
       "      <th>Contract</th>\n",
       "      <th>PaperlessBilling</th>\n",
       "      <th>PaymentMethod</th>\n",
       "      <th>MonthlyCharges</th>\n",
       "      <th>TotalCharges</th>\n",
       "      <th>Churn</th>\n",
       "    </tr>\n",
       "  </thead>\n",
       "  <tbody>\n",
       "    <tr>\n",
       "      <th>1901</th>\n",
       "      <td>5777-ZPQNC</td>\n",
       "      <td>Female</td>\n",
       "      <td>0</td>\n",
       "      <td>No</td>\n",
       "      <td>No</td>\n",
       "      <td>12</td>\n",
       "      <td>Yes</td>\n",
       "      <td>No</td>\n",
       "      <td>No</td>\n",
       "      <td>No internet service</td>\n",
       "      <td>...</td>\n",
       "      <td>No internet service</td>\n",
       "      <td>No internet service</td>\n",
       "      <td>No internet service</td>\n",
       "      <td>No internet service</td>\n",
       "      <td>One year</td>\n",
       "      <td>No</td>\n",
       "      <td>Electronic check</td>\n",
       "      <td>20.15</td>\n",
       "      <td>260.7</td>\n",
       "      <td>No</td>\n",
       "    </tr>\n",
       "    <tr>\n",
       "      <th>1456</th>\n",
       "      <td>3473-XIIIT</td>\n",
       "      <td>Female</td>\n",
       "      <td>0</td>\n",
       "      <td>Yes</td>\n",
       "      <td>No</td>\n",
       "      <td>16</td>\n",
       "      <td>Yes</td>\n",
       "      <td>Yes</td>\n",
       "      <td>Fiber optic</td>\n",
       "      <td>No</td>\n",
       "      <td>...</td>\n",
       "      <td>No</td>\n",
       "      <td>No</td>\n",
       "      <td>Yes</td>\n",
       "      <td>Yes</td>\n",
       "      <td>Month-to-month</td>\n",
       "      <td>Yes</td>\n",
       "      <td>Electronic check</td>\n",
       "      <td>100.00</td>\n",
       "      <td>1534.75</td>\n",
       "      <td>Yes</td>\n",
       "    </tr>\n",
       "    <tr>\n",
       "      <th>992</th>\n",
       "      <td>4883-KCPZJ</td>\n",
       "      <td>Female</td>\n",
       "      <td>0</td>\n",
       "      <td>Yes</td>\n",
       "      <td>Yes</td>\n",
       "      <td>22</td>\n",
       "      <td>Yes</td>\n",
       "      <td>Yes</td>\n",
       "      <td>No</td>\n",
       "      <td>No internet service</td>\n",
       "      <td>...</td>\n",
       "      <td>No internet service</td>\n",
       "      <td>No internet service</td>\n",
       "      <td>No internet service</td>\n",
       "      <td>No internet service</td>\n",
       "      <td>Two year</td>\n",
       "      <td>No</td>\n",
       "      <td>Credit card (automatic)</td>\n",
       "      <td>25.25</td>\n",
       "      <td>555.4</td>\n",
       "      <td>No</td>\n",
       "    </tr>\n",
       "    <tr>\n",
       "      <th>5800</th>\n",
       "      <td>7129-CAKJW</td>\n",
       "      <td>Female</td>\n",
       "      <td>0</td>\n",
       "      <td>No</td>\n",
       "      <td>No</td>\n",
       "      <td>17</td>\n",
       "      <td>Yes</td>\n",
       "      <td>Yes</td>\n",
       "      <td>Fiber optic</td>\n",
       "      <td>No</td>\n",
       "      <td>...</td>\n",
       "      <td>Yes</td>\n",
       "      <td>No</td>\n",
       "      <td>No</td>\n",
       "      <td>No</td>\n",
       "      <td>Month-to-month</td>\n",
       "      <td>No</td>\n",
       "      <td>Bank transfer (automatic)</td>\n",
       "      <td>80.05</td>\n",
       "      <td>1345.65</td>\n",
       "      <td>No</td>\n",
       "    </tr>\n",
       "    <tr>\n",
       "      <th>319</th>\n",
       "      <td>6745-JEFZB</td>\n",
       "      <td>Male</td>\n",
       "      <td>0</td>\n",
       "      <td>Yes</td>\n",
       "      <td>No</td>\n",
       "      <td>35</td>\n",
       "      <td>Yes</td>\n",
       "      <td>Yes</td>\n",
       "      <td>Fiber optic</td>\n",
       "      <td>No</td>\n",
       "      <td>...</td>\n",
       "      <td>No</td>\n",
       "      <td>Yes</td>\n",
       "      <td>Yes</td>\n",
       "      <td>No</td>\n",
       "      <td>Month-to-month</td>\n",
       "      <td>Yes</td>\n",
       "      <td>Credit card (automatic)</td>\n",
       "      <td>91.50</td>\n",
       "      <td>3236.35</td>\n",
       "      <td>No</td>\n",
       "    </tr>\n",
       "  </tbody>\n",
       "</table>\n",
       "<p>5 rows × 21 columns</p>\n",
       "</div>"
      ],
      "text/plain": [
       "      customerID  gender  SeniorCitizen Partner Dependents  tenure  \\\n",
       "1901  5777-ZPQNC  Female              0      No         No      12   \n",
       "1456  3473-XIIIT  Female              0     Yes         No      16   \n",
       "992   4883-KCPZJ  Female              0     Yes        Yes      22   \n",
       "5800  7129-CAKJW  Female              0      No         No      17   \n",
       "319   6745-JEFZB    Male              0     Yes         No      35   \n",
       "\n",
       "     PhoneService MultipleLines InternetService       OnlineSecurity  ...  \\\n",
       "1901          Yes            No              No  No internet service  ...   \n",
       "1456          Yes           Yes     Fiber optic                   No  ...   \n",
       "992           Yes           Yes              No  No internet service  ...   \n",
       "5800          Yes           Yes     Fiber optic                   No  ...   \n",
       "319           Yes           Yes     Fiber optic                   No  ...   \n",
       "\n",
       "         DeviceProtection          TechSupport          StreamingTV  \\\n",
       "1901  No internet service  No internet service  No internet service   \n",
       "1456                   No                   No                  Yes   \n",
       "992   No internet service  No internet service  No internet service   \n",
       "5800                  Yes                   No                   No   \n",
       "319                    No                  Yes                  Yes   \n",
       "\n",
       "          StreamingMovies        Contract PaperlessBilling  \\\n",
       "1901  No internet service        One year               No   \n",
       "1456                  Yes  Month-to-month              Yes   \n",
       "992   No internet service        Two year               No   \n",
       "5800                   No  Month-to-month               No   \n",
       "319                    No  Month-to-month              Yes   \n",
       "\n",
       "                  PaymentMethod MonthlyCharges  TotalCharges Churn  \n",
       "1901           Electronic check          20.15         260.7    No  \n",
       "1456           Electronic check         100.00       1534.75   Yes  \n",
       "992     Credit card (automatic)          25.25         555.4    No  \n",
       "5800  Bank transfer (automatic)          80.05       1345.65    No  \n",
       "319     Credit card (automatic)          91.50       3236.35    No  \n",
       "\n",
       "[5 rows x 21 columns]"
      ]
     },
     "execution_count": 11,
     "metadata": {},
     "output_type": "execute_result"
    }
   ],
   "source": [
    "df.sample(5)"
   ]
  },
  {
   "cell_type": "code",
   "execution_count": 12,
   "id": "1a77e204",
   "metadata": {
    "execution": {
     "iopub.execute_input": "2024-03-12T15:57:13.551799Z",
     "iopub.status.busy": "2024-03-12T15:57:13.550815Z",
     "iopub.status.idle": "2024-03-12T15:57:13.581514Z",
     "shell.execute_reply": "2024-03-12T15:57:13.580539Z"
    },
    "papermill": {
     "duration": 0.0515,
     "end_time": "2024-03-12T15:57:13.584049",
     "exception": false,
     "start_time": "2024-03-12T15:57:13.532549",
     "status": "completed"
    },
    "tags": []
   },
   "outputs": [],
   "source": [
    "df.drop('customerID',axis='columns',inplace=True)"
   ]
  },
  {
   "cell_type": "code",
   "execution_count": 13,
   "id": "0dfe4795",
   "metadata": {
    "execution": {
     "iopub.execute_input": "2024-03-12T15:57:13.617735Z",
     "iopub.status.busy": "2024-03-12T15:57:13.617365Z",
     "iopub.status.idle": "2024-03-12T15:57:13.626307Z",
     "shell.execute_reply": "2024-03-12T15:57:13.625156Z"
    },
    "papermill": {
     "duration": 0.028571,
     "end_time": "2024-03-12T15:57:13.628680",
     "exception": false,
     "start_time": "2024-03-12T15:57:13.600109",
     "status": "completed"
    },
    "tags": []
   },
   "outputs": [
    {
     "data": {
      "text/plain": [
       "gender               object\n",
       "SeniorCitizen         int64\n",
       "Partner              object\n",
       "Dependents           object\n",
       "tenure                int64\n",
       "PhoneService         object\n",
       "MultipleLines        object\n",
       "InternetService      object\n",
       "OnlineSecurity       object\n",
       "OnlineBackup         object\n",
       "DeviceProtection     object\n",
       "TechSupport          object\n",
       "StreamingTV          object\n",
       "StreamingMovies      object\n",
       "Contract             object\n",
       "PaperlessBilling     object\n",
       "PaymentMethod        object\n",
       "MonthlyCharges      float64\n",
       "TotalCharges         object\n",
       "Churn                object\n",
       "dtype: object"
      ]
     },
     "execution_count": 13,
     "metadata": {},
     "output_type": "execute_result"
    }
   ],
   "source": [
    "df.dtypes"
   ]
  },
  {
   "cell_type": "code",
   "execution_count": 14,
   "id": "fd0a0dc7",
   "metadata": {
    "execution": {
     "iopub.execute_input": "2024-03-12T15:57:13.663091Z",
     "iopub.status.busy": "2024-03-12T15:57:13.662675Z",
     "iopub.status.idle": "2024-03-12T15:57:13.671284Z",
     "shell.execute_reply": "2024-03-12T15:57:13.670190Z"
    },
    "papermill": {
     "duration": 0.028615,
     "end_time": "2024-03-12T15:57:13.673623",
     "exception": false,
     "start_time": "2024-03-12T15:57:13.645008",
     "status": "completed"
    },
    "tags": []
   },
   "outputs": [
    {
     "data": {
      "text/plain": [
       "array(['29.85', '1889.5', '108.15', ..., '346.45', '306.6', '6844.5'],\n",
       "      dtype=object)"
      ]
     },
     "execution_count": 14,
     "metadata": {},
     "output_type": "execute_result"
    }
   ],
   "source": [
    "df.TotalCharges.values "
   ]
  },
  {
   "cell_type": "code",
   "execution_count": 15,
   "id": "802d6856",
   "metadata": {
    "execution": {
     "iopub.execute_input": "2024-03-12T15:57:13.708582Z",
     "iopub.status.busy": "2024-03-12T15:57:13.707958Z",
     "iopub.status.idle": "2024-03-12T15:57:13.715414Z",
     "shell.execute_reply": "2024-03-12T15:57:13.714350Z"
    },
    "papermill": {
     "duration": 0.027473,
     "end_time": "2024-03-12T15:57:13.717496",
     "exception": false,
     "start_time": "2024-03-12T15:57:13.690023",
     "status": "completed"
    },
    "tags": []
   },
   "outputs": [
    {
     "data": {
      "text/plain": [
       "array([ 29.85,  56.95,  53.85, ...,  29.6 ,  74.4 , 105.65])"
      ]
     },
     "execution_count": 15,
     "metadata": {},
     "output_type": "execute_result"
    }
   ],
   "source": [
    "df.MonthlyCharges.values"
   ]
  },
  {
   "cell_type": "code",
   "execution_count": 16,
   "id": "9b772db6",
   "metadata": {
    "execution": {
     "iopub.execute_input": "2024-03-12T15:57:13.753953Z",
     "iopub.status.busy": "2024-03-12T15:57:13.753293Z",
     "iopub.status.idle": "2024-03-12T15:57:13.767313Z",
     "shell.execute_reply": "2024-03-12T15:57:13.766211Z"
    },
    "papermill": {
     "duration": 0.03431,
     "end_time": "2024-03-12T15:57:13.769598",
     "exception": false,
     "start_time": "2024-03-12T15:57:13.735288",
     "status": "completed"
    },
    "tags": []
   },
   "outputs": [
    {
     "data": {
      "text/plain": [
       "0       False\n",
       "1       False\n",
       "2       False\n",
       "3       False\n",
       "4       False\n",
       "        ...  \n",
       "7038    False\n",
       "7039    False\n",
       "7040    False\n",
       "7041    False\n",
       "7042    False\n",
       "Name: TotalCharges, Length: 7043, dtype: bool"
      ]
     },
     "execution_count": 16,
     "metadata": {},
     "output_type": "execute_result"
    }
   ],
   "source": [
    "pd.to_numeric(df.TotalCharges,errors='coerce').isnull()"
   ]
  },
  {
   "cell_type": "code",
   "execution_count": 17,
   "id": "ceaffe84",
   "metadata": {
    "execution": {
     "iopub.execute_input": "2024-03-12T15:57:13.804863Z",
     "iopub.status.busy": "2024-03-12T15:57:13.804441Z",
     "iopub.status.idle": "2024-03-12T15:57:13.839924Z",
     "shell.execute_reply": "2024-03-12T15:57:13.838860Z"
    },
    "papermill": {
     "duration": 0.056544,
     "end_time": "2024-03-12T15:57:13.842811",
     "exception": false,
     "start_time": "2024-03-12T15:57:13.786267",
     "status": "completed"
    },
    "tags": []
   },
   "outputs": [
    {
     "data": {
      "text/html": [
       "<div>\n",
       "<style scoped>\n",
       "    .dataframe tbody tr th:only-of-type {\n",
       "        vertical-align: middle;\n",
       "    }\n",
       "\n",
       "    .dataframe tbody tr th {\n",
       "        vertical-align: top;\n",
       "    }\n",
       "\n",
       "    .dataframe thead th {\n",
       "        text-align: right;\n",
       "    }\n",
       "</style>\n",
       "<table border=\"1\" class=\"dataframe\">\n",
       "  <thead>\n",
       "    <tr style=\"text-align: right;\">\n",
       "      <th></th>\n",
       "      <th>gender</th>\n",
       "      <th>SeniorCitizen</th>\n",
       "      <th>Partner</th>\n",
       "      <th>Dependents</th>\n",
       "      <th>tenure</th>\n",
       "      <th>PhoneService</th>\n",
       "      <th>MultipleLines</th>\n",
       "      <th>InternetService</th>\n",
       "      <th>OnlineSecurity</th>\n",
       "      <th>OnlineBackup</th>\n",
       "      <th>DeviceProtection</th>\n",
       "      <th>TechSupport</th>\n",
       "      <th>StreamingTV</th>\n",
       "      <th>StreamingMovies</th>\n",
       "      <th>Contract</th>\n",
       "      <th>PaperlessBilling</th>\n",
       "      <th>PaymentMethod</th>\n",
       "      <th>MonthlyCharges</th>\n",
       "      <th>TotalCharges</th>\n",
       "      <th>Churn</th>\n",
       "    </tr>\n",
       "  </thead>\n",
       "  <tbody>\n",
       "    <tr>\n",
       "      <th>488</th>\n",
       "      <td>Female</td>\n",
       "      <td>0</td>\n",
       "      <td>Yes</td>\n",
       "      <td>Yes</td>\n",
       "      <td>0</td>\n",
       "      <td>No</td>\n",
       "      <td>No phone service</td>\n",
       "      <td>DSL</td>\n",
       "      <td>Yes</td>\n",
       "      <td>No</td>\n",
       "      <td>Yes</td>\n",
       "      <td>Yes</td>\n",
       "      <td>Yes</td>\n",
       "      <td>No</td>\n",
       "      <td>Two year</td>\n",
       "      <td>Yes</td>\n",
       "      <td>Bank transfer (automatic)</td>\n",
       "      <td>52.55</td>\n",
       "      <td></td>\n",
       "      <td>No</td>\n",
       "    </tr>\n",
       "    <tr>\n",
       "      <th>753</th>\n",
       "      <td>Male</td>\n",
       "      <td>0</td>\n",
       "      <td>No</td>\n",
       "      <td>Yes</td>\n",
       "      <td>0</td>\n",
       "      <td>Yes</td>\n",
       "      <td>No</td>\n",
       "      <td>No</td>\n",
       "      <td>No internet service</td>\n",
       "      <td>No internet service</td>\n",
       "      <td>No internet service</td>\n",
       "      <td>No internet service</td>\n",
       "      <td>No internet service</td>\n",
       "      <td>No internet service</td>\n",
       "      <td>Two year</td>\n",
       "      <td>No</td>\n",
       "      <td>Mailed check</td>\n",
       "      <td>20.25</td>\n",
       "      <td></td>\n",
       "      <td>No</td>\n",
       "    </tr>\n",
       "    <tr>\n",
       "      <th>936</th>\n",
       "      <td>Female</td>\n",
       "      <td>0</td>\n",
       "      <td>Yes</td>\n",
       "      <td>Yes</td>\n",
       "      <td>0</td>\n",
       "      <td>Yes</td>\n",
       "      <td>No</td>\n",
       "      <td>DSL</td>\n",
       "      <td>Yes</td>\n",
       "      <td>Yes</td>\n",
       "      <td>Yes</td>\n",
       "      <td>No</td>\n",
       "      <td>Yes</td>\n",
       "      <td>Yes</td>\n",
       "      <td>Two year</td>\n",
       "      <td>No</td>\n",
       "      <td>Mailed check</td>\n",
       "      <td>80.85</td>\n",
       "      <td></td>\n",
       "      <td>No</td>\n",
       "    </tr>\n",
       "    <tr>\n",
       "      <th>1082</th>\n",
       "      <td>Male</td>\n",
       "      <td>0</td>\n",
       "      <td>Yes</td>\n",
       "      <td>Yes</td>\n",
       "      <td>0</td>\n",
       "      <td>Yes</td>\n",
       "      <td>Yes</td>\n",
       "      <td>No</td>\n",
       "      <td>No internet service</td>\n",
       "      <td>No internet service</td>\n",
       "      <td>No internet service</td>\n",
       "      <td>No internet service</td>\n",
       "      <td>No internet service</td>\n",
       "      <td>No internet service</td>\n",
       "      <td>Two year</td>\n",
       "      <td>No</td>\n",
       "      <td>Mailed check</td>\n",
       "      <td>25.75</td>\n",
       "      <td></td>\n",
       "      <td>No</td>\n",
       "    </tr>\n",
       "    <tr>\n",
       "      <th>1340</th>\n",
       "      <td>Female</td>\n",
       "      <td>0</td>\n",
       "      <td>Yes</td>\n",
       "      <td>Yes</td>\n",
       "      <td>0</td>\n",
       "      <td>No</td>\n",
       "      <td>No phone service</td>\n",
       "      <td>DSL</td>\n",
       "      <td>Yes</td>\n",
       "      <td>Yes</td>\n",
       "      <td>Yes</td>\n",
       "      <td>Yes</td>\n",
       "      <td>Yes</td>\n",
       "      <td>No</td>\n",
       "      <td>Two year</td>\n",
       "      <td>No</td>\n",
       "      <td>Credit card (automatic)</td>\n",
       "      <td>56.05</td>\n",
       "      <td></td>\n",
       "      <td>No</td>\n",
       "    </tr>\n",
       "    <tr>\n",
       "      <th>3331</th>\n",
       "      <td>Male</td>\n",
       "      <td>0</td>\n",
       "      <td>Yes</td>\n",
       "      <td>Yes</td>\n",
       "      <td>0</td>\n",
       "      <td>Yes</td>\n",
       "      <td>No</td>\n",
       "      <td>No</td>\n",
       "      <td>No internet service</td>\n",
       "      <td>No internet service</td>\n",
       "      <td>No internet service</td>\n",
       "      <td>No internet service</td>\n",
       "      <td>No internet service</td>\n",
       "      <td>No internet service</td>\n",
       "      <td>Two year</td>\n",
       "      <td>No</td>\n",
       "      <td>Mailed check</td>\n",
       "      <td>19.85</td>\n",
       "      <td></td>\n",
       "      <td>No</td>\n",
       "    </tr>\n",
       "    <tr>\n",
       "      <th>3826</th>\n",
       "      <td>Male</td>\n",
       "      <td>0</td>\n",
       "      <td>Yes</td>\n",
       "      <td>Yes</td>\n",
       "      <td>0</td>\n",
       "      <td>Yes</td>\n",
       "      <td>Yes</td>\n",
       "      <td>No</td>\n",
       "      <td>No internet service</td>\n",
       "      <td>No internet service</td>\n",
       "      <td>No internet service</td>\n",
       "      <td>No internet service</td>\n",
       "      <td>No internet service</td>\n",
       "      <td>No internet service</td>\n",
       "      <td>Two year</td>\n",
       "      <td>No</td>\n",
       "      <td>Mailed check</td>\n",
       "      <td>25.35</td>\n",
       "      <td></td>\n",
       "      <td>No</td>\n",
       "    </tr>\n",
       "    <tr>\n",
       "      <th>4380</th>\n",
       "      <td>Female</td>\n",
       "      <td>0</td>\n",
       "      <td>Yes</td>\n",
       "      <td>Yes</td>\n",
       "      <td>0</td>\n",
       "      <td>Yes</td>\n",
       "      <td>No</td>\n",
       "      <td>No</td>\n",
       "      <td>No internet service</td>\n",
       "      <td>No internet service</td>\n",
       "      <td>No internet service</td>\n",
       "      <td>No internet service</td>\n",
       "      <td>No internet service</td>\n",
       "      <td>No internet service</td>\n",
       "      <td>Two year</td>\n",
       "      <td>No</td>\n",
       "      <td>Mailed check</td>\n",
       "      <td>20.00</td>\n",
       "      <td></td>\n",
       "      <td>No</td>\n",
       "    </tr>\n",
       "    <tr>\n",
       "      <th>5218</th>\n",
       "      <td>Male</td>\n",
       "      <td>0</td>\n",
       "      <td>Yes</td>\n",
       "      <td>Yes</td>\n",
       "      <td>0</td>\n",
       "      <td>Yes</td>\n",
       "      <td>No</td>\n",
       "      <td>No</td>\n",
       "      <td>No internet service</td>\n",
       "      <td>No internet service</td>\n",
       "      <td>No internet service</td>\n",
       "      <td>No internet service</td>\n",
       "      <td>No internet service</td>\n",
       "      <td>No internet service</td>\n",
       "      <td>One year</td>\n",
       "      <td>Yes</td>\n",
       "      <td>Mailed check</td>\n",
       "      <td>19.70</td>\n",
       "      <td></td>\n",
       "      <td>No</td>\n",
       "    </tr>\n",
       "    <tr>\n",
       "      <th>6670</th>\n",
       "      <td>Female</td>\n",
       "      <td>0</td>\n",
       "      <td>Yes</td>\n",
       "      <td>Yes</td>\n",
       "      <td>0</td>\n",
       "      <td>Yes</td>\n",
       "      <td>Yes</td>\n",
       "      <td>DSL</td>\n",
       "      <td>No</td>\n",
       "      <td>Yes</td>\n",
       "      <td>Yes</td>\n",
       "      <td>Yes</td>\n",
       "      <td>Yes</td>\n",
       "      <td>No</td>\n",
       "      <td>Two year</td>\n",
       "      <td>No</td>\n",
       "      <td>Mailed check</td>\n",
       "      <td>73.35</td>\n",
       "      <td></td>\n",
       "      <td>No</td>\n",
       "    </tr>\n",
       "    <tr>\n",
       "      <th>6754</th>\n",
       "      <td>Male</td>\n",
       "      <td>0</td>\n",
       "      <td>No</td>\n",
       "      <td>Yes</td>\n",
       "      <td>0</td>\n",
       "      <td>Yes</td>\n",
       "      <td>Yes</td>\n",
       "      <td>DSL</td>\n",
       "      <td>Yes</td>\n",
       "      <td>Yes</td>\n",
       "      <td>No</td>\n",
       "      <td>Yes</td>\n",
       "      <td>No</td>\n",
       "      <td>No</td>\n",
       "      <td>Two year</td>\n",
       "      <td>Yes</td>\n",
       "      <td>Bank transfer (automatic)</td>\n",
       "      <td>61.90</td>\n",
       "      <td></td>\n",
       "      <td>No</td>\n",
       "    </tr>\n",
       "  </tbody>\n",
       "</table>\n",
       "</div>"
      ],
      "text/plain": [
       "      gender  SeniorCitizen Partner Dependents  tenure PhoneService  \\\n",
       "488   Female              0     Yes        Yes       0           No   \n",
       "753     Male              0      No        Yes       0          Yes   \n",
       "936   Female              0     Yes        Yes       0          Yes   \n",
       "1082    Male              0     Yes        Yes       0          Yes   \n",
       "1340  Female              0     Yes        Yes       0           No   \n",
       "3331    Male              0     Yes        Yes       0          Yes   \n",
       "3826    Male              0     Yes        Yes       0          Yes   \n",
       "4380  Female              0     Yes        Yes       0          Yes   \n",
       "5218    Male              0     Yes        Yes       0          Yes   \n",
       "6670  Female              0     Yes        Yes       0          Yes   \n",
       "6754    Male              0      No        Yes       0          Yes   \n",
       "\n",
       "         MultipleLines InternetService       OnlineSecurity  \\\n",
       "488   No phone service             DSL                  Yes   \n",
       "753                 No              No  No internet service   \n",
       "936                 No             DSL                  Yes   \n",
       "1082               Yes              No  No internet service   \n",
       "1340  No phone service             DSL                  Yes   \n",
       "3331                No              No  No internet service   \n",
       "3826               Yes              No  No internet service   \n",
       "4380                No              No  No internet service   \n",
       "5218                No              No  No internet service   \n",
       "6670               Yes             DSL                   No   \n",
       "6754               Yes             DSL                  Yes   \n",
       "\n",
       "             OnlineBackup     DeviceProtection          TechSupport  \\\n",
       "488                    No                  Yes                  Yes   \n",
       "753   No internet service  No internet service  No internet service   \n",
       "936                   Yes                  Yes                   No   \n",
       "1082  No internet service  No internet service  No internet service   \n",
       "1340                  Yes                  Yes                  Yes   \n",
       "3331  No internet service  No internet service  No internet service   \n",
       "3826  No internet service  No internet service  No internet service   \n",
       "4380  No internet service  No internet service  No internet service   \n",
       "5218  No internet service  No internet service  No internet service   \n",
       "6670                  Yes                  Yes                  Yes   \n",
       "6754                  Yes                   No                  Yes   \n",
       "\n",
       "              StreamingTV      StreamingMovies  Contract PaperlessBilling  \\\n",
       "488                   Yes                   No  Two year              Yes   \n",
       "753   No internet service  No internet service  Two year               No   \n",
       "936                   Yes                  Yes  Two year               No   \n",
       "1082  No internet service  No internet service  Two year               No   \n",
       "1340                  Yes                   No  Two year               No   \n",
       "3331  No internet service  No internet service  Two year               No   \n",
       "3826  No internet service  No internet service  Two year               No   \n",
       "4380  No internet service  No internet service  Two year               No   \n",
       "5218  No internet service  No internet service  One year              Yes   \n",
       "6670                  Yes                   No  Two year               No   \n",
       "6754                   No                   No  Two year              Yes   \n",
       "\n",
       "                  PaymentMethod  MonthlyCharges TotalCharges Churn  \n",
       "488   Bank transfer (automatic)           52.55                 No  \n",
       "753                Mailed check           20.25                 No  \n",
       "936                Mailed check           80.85                 No  \n",
       "1082               Mailed check           25.75                 No  \n",
       "1340    Credit card (automatic)           56.05                 No  \n",
       "3331               Mailed check           19.85                 No  \n",
       "3826               Mailed check           25.35                 No  \n",
       "4380               Mailed check           20.00                 No  \n",
       "5218               Mailed check           19.70                 No  \n",
       "6670               Mailed check           73.35                 No  \n",
       "6754  Bank transfer (automatic)           61.90                 No  "
      ]
     },
     "execution_count": 17,
     "metadata": {},
     "output_type": "execute_result"
    }
   ],
   "source": [
    "df[pd.to_numeric(df.TotalCharges,errors='coerce').isnull()]"
   ]
  },
  {
   "cell_type": "code",
   "execution_count": 18,
   "id": "9af8f8e1",
   "metadata": {
    "execution": {
     "iopub.execute_input": "2024-03-12T15:57:13.879455Z",
     "iopub.status.busy": "2024-03-12T15:57:13.879102Z",
     "iopub.status.idle": "2024-03-12T15:57:13.885257Z",
     "shell.execute_reply": "2024-03-12T15:57:13.884202Z"
    },
    "papermill": {
     "duration": 0.027793,
     "end_time": "2024-03-12T15:57:13.887949",
     "exception": false,
     "start_time": "2024-03-12T15:57:13.860156",
     "status": "completed"
    },
    "tags": []
   },
   "outputs": [
    {
     "data": {
      "text/plain": [
       "(7043, 20)"
      ]
     },
     "execution_count": 18,
     "metadata": {},
     "output_type": "execute_result"
    }
   ],
   "source": [
    "  df.shape"
   ]
  },
  {
   "cell_type": "code",
   "execution_count": 19,
   "id": "675c4b0e",
   "metadata": {
    "execution": {
     "iopub.execute_input": "2024-03-12T15:57:13.924700Z",
     "iopub.status.busy": "2024-03-12T15:57:13.924345Z",
     "iopub.status.idle": "2024-03-12T15:57:13.934917Z",
     "shell.execute_reply": "2024-03-12T15:57:13.934029Z"
    },
    "papermill": {
     "duration": 0.031935,
     "end_time": "2024-03-12T15:57:13.937285",
     "exception": false,
     "start_time": "2024-03-12T15:57:13.905350",
     "status": "completed"
    },
    "tags": []
   },
   "outputs": [
    {
     "data": {
      "text/plain": [
       "(7032, 20)"
      ]
     },
     "execution_count": 19,
     "metadata": {},
     "output_type": "execute_result"
    }
   ],
   "source": [
    "df1=df[df.TotalCharges!=' ']\n",
    "df1.shape"
   ]
  },
  {
   "cell_type": "code",
   "execution_count": 20,
   "id": "0ca28914",
   "metadata": {
    "execution": {
     "iopub.execute_input": "2024-03-12T15:57:13.974320Z",
     "iopub.status.busy": "2024-03-12T15:57:13.973943Z",
     "iopub.status.idle": "2024-03-12T15:57:13.985699Z",
     "shell.execute_reply": "2024-03-12T15:57:13.984572Z"
    },
    "papermill": {
     "duration": 0.032836,
     "end_time": "2024-03-12T15:57:13.987888",
     "exception": false,
     "start_time": "2024-03-12T15:57:13.955052",
     "status": "completed"
    },
    "tags": []
   },
   "outputs": [
    {
     "name": "stderr",
     "output_type": "stream",
     "text": [
      "C:\\Users\\ayush\\AppData\\Local\\Temp\\ipykernel_14000\\599245994.py:1: SettingWithCopyWarning: \n",
      "A value is trying to be set on a copy of a slice from a DataFrame.\n",
      "Try using .loc[row_indexer,col_indexer] = value instead\n",
      "\n",
      "See the caveats in the documentation: https://pandas.pydata.org/pandas-docs/stable/user_guide/indexing.html#returning-a-view-versus-a-copy\n",
      "  df1.loc[:, 'TotalCharges'] = pd.to_numeric(df1.TotalCharges)\n",
      "C:\\Users\\ayush\\AppData\\Local\\Temp\\ipykernel_14000\\599245994.py:1: DeprecationWarning: In a future version, `df.iloc[:, i] = newvals` will attempt to set the values inplace instead of always setting a new array. To retain the old behavior, use either `df[df.columns[i]] = newvals` or, if columns are non-unique, `df.isetitem(i, newvals)`\n",
      "  df1.loc[:, 'TotalCharges'] = pd.to_numeric(df1.TotalCharges)\n"
     ]
    }
   ],
   "source": [
    "df1.loc[:, 'TotalCharges'] = pd.to_numeric(df1.TotalCharges)"
   ]
  },
  {
   "cell_type": "code",
   "execution_count": 21,
   "id": "7f8d3e19",
   "metadata": {
    "execution": {
     "iopub.execute_input": "2024-03-12T15:57:14.025179Z",
     "iopub.status.busy": "2024-03-12T15:57:14.024733Z",
     "iopub.status.idle": "2024-03-12T15:57:14.031401Z",
     "shell.execute_reply": "2024-03-12T15:57:14.030530Z"
    },
    "papermill": {
     "duration": 0.028072,
     "end_time": "2024-03-12T15:57:14.033622",
     "exception": false,
     "start_time": "2024-03-12T15:57:14.005550",
     "status": "completed"
    },
    "tags": []
   },
   "outputs": [
    {
     "data": {
      "text/plain": [
       "dtype('float64')"
      ]
     },
     "execution_count": 21,
     "metadata": {},
     "output_type": "execute_result"
    }
   ],
   "source": [
    " df1.TotalCharges.dtypes"
   ]
  },
  {
   "cell_type": "code",
   "execution_count": 22,
   "id": "d389c227",
   "metadata": {
    "execution": {
     "iopub.execute_input": "2024-03-12T15:57:14.070663Z",
     "iopub.status.busy": "2024-03-12T15:57:14.070263Z",
     "iopub.status.idle": "2024-03-12T15:57:14.516454Z",
     "shell.execute_reply": "2024-03-12T15:57:14.515177Z"
    },
    "papermill": {
     "duration": 0.467804,
     "end_time": "2024-03-12T15:57:14.519110",
     "exception": false,
     "start_time": "2024-03-12T15:57:14.051306",
     "status": "completed"
    },
    "tags": []
   },
   "outputs": [
    {
     "data": {
      "text/plain": [
       "<matplotlib.legend.Legend at 0x1c6e632e8d0>"
      ]
     },
     "execution_count": 22,
     "metadata": {},
     "output_type": "execute_result"
    },
    {
     "data": {
      "image/png": "[encoded data removed]",
      "text/plain": [
       "<Figure size 640x480 with 1 Axes>"
      ]
     },
     "metadata": {},
     "output_type": "display_data"
    }
   ],
   "source": [
    "tenure_churn_n0=df1[df1.Churn==\"No\"].tenure\n",
    "tenure_churn_yes=df1[df1.Churn==\"Yes\"].tenure\n",
    "plt.xlabel(\"tenure\")\n",
    "plt.ylabel(\"Number of Customers\")\n",
    "plt.title(\"Customer Churn Prediction Visualization\")\n",
    "\n",
    "plt.hist([tenure_churn_yes,tenure_churn_n0],color=['green','red'],label=[\"Churn=Yes\",\"Churn=No\"])\n",
    "plt.legend()"
   ]
  },
  {
   "cell_type": "code",
   "execution_count": 23,
   "id": "4c34ced6",
   "metadata": {
    "execution": {
     "iopub.execute_input": "2024-03-12T15:57:14.558524Z",
     "iopub.status.busy": "2024-03-12T15:57:14.557506Z",
     "iopub.status.idle": "2024-03-12T15:57:14.973179Z",
     "shell.execute_reply": "2024-03-12T15:57:14.971936Z"
    },
    "papermill": {
     "duration": 0.437975,
     "end_time": "2024-03-12T15:57:14.975565",
     "exception": false,
     "start_time": "2024-03-12T15:57:14.537590",
     "status": "completed"
    },
    "tags": []
   },
   "outputs": [
    {
     "data": {
      "text/plain": [
       "<matplotlib.legend.Legend at 0x1c6e567a550>"
      ]
     },
     "execution_count": 23,
     "metadata": {},
     "output_type": "execute_result"
    },
    {
     "data": {
      "image/png": "[encoded data removed]",
      "text/plain": [
       "<Figure size 640x480 with 1 Axes>"
      ]
     },
     "metadata": {},
     "output_type": "display_data"
    }
   ],
   "source": [
    "mc_churn_n0=df1[df1.Churn==\"No\"].MonthlyCharges\n",
    "mc_churn_yes=df1[df1.Churn==\"Yes\"].MonthlyCharges\n",
    "plt.xlabel(\"Monthly charges\")\n",
    "plt.ylabel(\"Number of Customers\")\n",
    "plt.title(\"Customer Churn Prediction Visualization\")\n",
    "\n",
    "plt.hist([mc_churn_yes,mc_churn_n0],color=['green','red'],label=[\"Churn=Yes\",\"Churn=No\"])\n",
    "plt.legend()"
   ]
  },
  {
   "cell_type": "code",
   "execution_count": 24,
   "id": "d9b43e35",
   "metadata": {
    "execution": {
     "iopub.execute_input": "2024-03-12T15:57:15.016291Z",
     "iopub.status.busy": "2024-03-12T15:57:15.015928Z",
     "iopub.status.idle": "2024-03-12T15:57:15.020983Z",
     "shell.execute_reply": "2024-03-12T15:57:15.019894Z"
    },
    "papermill": {
     "duration": 0.028535,
     "end_time": "2024-03-12T15:57:15.023469",
     "exception": false,
     "start_time": "2024-03-12T15:57:14.994934",
     "status": "completed"
    },
    "tags": []
   },
   "outputs": [],
   "source": [
    "def print_unique_values(df):\n",
    "    for col in df:\n",
    "        if df[col].dtypes=='object':\n",
    "             print(f'{col}: {df[col].unique()}')"
   ]
  },
  {
   "cell_type": "code",
   "execution_count": 25,
   "id": "c6ce5d6c",
   "metadata": {
    "execution": {
     "iopub.execute_input": "2024-03-12T15:57:15.063642Z",
     "iopub.status.busy": "2024-03-12T15:57:15.063269Z",
     "iopub.status.idle": "2024-03-12T15:57:15.089669Z",
     "shell.execute_reply": "2024-03-12T15:57:15.088293Z"
    },
    "papermill": {
     "duration": 0.049847,
     "end_time": "2024-03-12T15:57:15.092464",
     "exception": false,
     "start_time": "2024-03-12T15:57:15.042617",
     "status": "completed"
    },
    "tags": []
   },
   "outputs": [
    {
     "name": "stdout",
     "output_type": "stream",
     "text": [
      "gender: ['Female' 'Male']\n",
      "Partner: ['Yes' 'No']\n",
      "Dependents: ['No' 'Yes']\n",
      "PhoneService: ['No' 'Yes']\n",
      "MultipleLines: ['No phone service' 'No' 'Yes']\n",
      "InternetService: ['DSL' 'Fiber optic' 'No']\n",
      "OnlineSecurity: ['No' 'Yes' 'No internet service']\n",
      "OnlineBackup: ['Yes' 'No' 'No internet service']\n",
      "DeviceProtection: ['No' 'Yes' 'No internet service']\n",
      "TechSupport: ['No' 'Yes' 'No internet service']\n",
      "StreamingTV: ['No' 'Yes' 'No internet service']\n",
      "StreamingMovies: ['No' 'Yes' 'No internet service']\n",
      "Contract: ['Month-to-month' 'One year' 'Two year']\n",
      "PaperlessBilling: ['Yes' 'No']\n",
      "PaymentMethod: ['Electronic check' 'Mailed check' 'Bank transfer (automatic)'\n",
      " 'Credit card (automatic)']\n",
      "Churn: ['No' 'Yes']\n"
     ]
    }
   ],
   "source": [
    "print_unique_values(df1)"
   ]
  },
  {
   "cell_type": "code",
   "execution_count": 26,
   "id": "59382562",
   "metadata": {
    "execution": {
     "iopub.execute_input": "2024-03-12T15:57:15.134243Z",
     "iopub.status.busy": "2024-03-12T15:57:15.133874Z",
     "iopub.status.idle": "2024-03-12T15:57:15.201354Z",
     "shell.execute_reply": "2024-03-12T15:57:15.199508Z"
    },
    "papermill": {
     "duration": 0.091302,
     "end_time": "2024-03-12T15:57:15.203854",
     "exception": false,
     "start_time": "2024-03-12T15:57:15.112552",
     "status": "completed"
    },
    "tags": []
   },
   "outputs": [
    {
     "ename": "TypeError",
     "evalue": "NDFrame.infer_objects() got an unexpected keyword argument 'copy'",
     "output_type": "error",
     "traceback": [
      "\u001b[1;31m---------------------------------------------------------------------------\u001b[0m",
      "\u001b[1;31mTypeError\u001b[0m                                 Traceback (most recent call last)",
      "Cell \u001b[1;32mIn[26], line 3\u001b[0m\n\u001b[0;32m      1\u001b[0m \u001b[38;5;28;01mfor\u001b[39;00m col \u001b[38;5;129;01min\u001b[39;00m df1:\n\u001b[0;32m      2\u001b[0m     \u001b[38;5;28;01mif\u001b[39;00m df1[col]\u001b[38;5;241m.\u001b[39mdtype \u001b[38;5;241m==\u001b[39m \u001b[38;5;124m'\u001b[39m\u001b[38;5;124mobject\u001b[39m\u001b[38;5;124m'\u001b[39m:\n\u001b[1;32m----> 3\u001b[0m         df1\u001b[38;5;241m.\u001b[39mloc[:, col] \u001b[38;5;241m=\u001b[39m df1[col]\u001b[38;5;241m.\u001b[39mreplace({\u001b[38;5;124m'\u001b[39m\u001b[38;5;124mNo internet service\u001b[39m\u001b[38;5;124m'\u001b[39m:\u001b[38;5;124m'\u001b[39m\u001b[38;5;124mNo\u001b[39m\u001b[38;5;124m'\u001b[39m,\u001b[38;5;124m'\u001b[39m\u001b[38;5;124mNo phone service\u001b[39m\u001b[38;5;124m'\u001b[39m: \u001b[38;5;124m'\u001b[39m\u001b[38;5;124mNo\u001b[39m\u001b[38;5;124m'\u001b[39m})\u001b[38;5;241m.\u001b[39minfer_objects(copy\u001b[38;5;241m=\u001b[39m\u001b[38;5;28;01mFalse\u001b[39;00m)\n\u001b[0;32m      6\u001b[0m \u001b[38;5;28mprint\u001b[39m(df1)\n",
      "\u001b[1;31mTypeError\u001b[0m: NDFrame.infer_objects() got an unexpected keyword argument 'copy'"
     ]
    }
   ],
   "source": [
    "\n",
    "\n",
    "for col in df1:\n",
    "    if df1[col].dtype == 'object':\n",
    "        df1.loc[:, col] = df1[col].replace({'No internet service':'No','No phone service': 'No'}).infer_objects(copy=False)\n",
    "\n",
    "\n",
    "print(df1)\n"
   ]
  },
  {
   "cell_type": "code",
   "execution_count": 27,
   "id": "d5424e3e",
   "metadata": {
    "execution": {
     "iopub.execute_input": "2024-03-12T15:57:15.246131Z",
     "iopub.status.busy": "2024-03-12T15:57:15.245723Z",
     "iopub.status.idle": "2024-03-12T15:57:15.267753Z",
     "shell.execute_reply": "2024-03-12T15:57:15.266446Z"
    },
    "papermill": {
     "duration": 0.046373,
     "end_time": "2024-03-12T15:57:15.270631",
     "exception": false,
     "start_time": "2024-03-12T15:57:15.224258",
     "status": "completed"
    },
    "tags": []
   },
   "outputs": [
    {
     "name": "stdout",
     "output_type": "stream",
     "text": [
      "gender: ['Female' 'Male']\n",
      "Partner: ['Yes' 'No']\n",
      "Dependents: ['No' 'Yes']\n",
      "PhoneService: ['No' 'Yes']\n",
      "MultipleLines: ['No phone service' 'No' 'Yes']\n",
      "InternetService: ['DSL' 'Fiber optic' 'No']\n",
      "OnlineSecurity: ['No' 'Yes' 'No internet service']\n",
      "OnlineBackup: ['Yes' 'No' 'No internet service']\n",
      "DeviceProtection: ['No' 'Yes' 'No internet service']\n",
      "TechSupport: ['No' 'Yes' 'No internet service']\n",
      "StreamingTV: ['No' 'Yes' 'No internet service']\n",
      "StreamingMovies: ['No' 'Yes' 'No internet service']\n",
      "Contract: ['Month-to-month' 'One year' 'Two year']\n",
      "PaperlessBilling: ['Yes' 'No']\n",
      "PaymentMethod: ['Electronic check' 'Mailed check' 'Bank transfer (automatic)'\n",
      " 'Credit card (automatic)']\n",
      "Churn: ['No' 'Yes']\n"
     ]
    }
   ],
   "source": [
    "print_unique_values(df1)"
   ]
  },
  {
   "cell_type": "code",
   "execution_count": 28,
   "id": "71cb5848",
   "metadata": {
    "execution": {
     "iopub.execute_input": "2024-03-12T15:57:15.313728Z",
     "iopub.status.busy": "2024-03-12T15:57:15.312962Z",
     "iopub.status.idle": "2024-03-12T15:57:15.414878Z",
     "shell.execute_reply": "2024-03-12T15:57:15.413694Z"
    },
    "papermill": {
     "duration": 0.126221,
     "end_time": "2024-03-12T15:57:15.417442",
     "exception": false,
     "start_time": "2024-03-12T15:57:15.291221",
     "status": "completed"
    },
    "tags": []
   },
   "outputs": [
    {
     "ename": "TypeError",
     "evalue": "NDFrame.infer_objects() got an unexpected keyword argument 'copy'",
     "output_type": "error",
     "traceback": [
      "\u001b[1;31m---------------------------------------------------------------------------\u001b[0m",
      "\u001b[1;31mTypeError\u001b[0m                                 Traceback (most recent call last)",
      "Cell \u001b[1;32mIn[28], line 4\u001b[0m\n\u001b[0;32m      1\u001b[0m yes_no_columns\u001b[38;5;241m=\u001b[39m[\u001b[38;5;124m'\u001b[39m\u001b[38;5;124mPartner\u001b[39m\u001b[38;5;124m'\u001b[39m,\u001b[38;5;124m'\u001b[39m\u001b[38;5;124mDependents\u001b[39m\u001b[38;5;124m'\u001b[39m,\u001b[38;5;124m'\u001b[39m\u001b[38;5;124mPhoneService\u001b[39m\u001b[38;5;124m'\u001b[39m,\u001b[38;5;124m'\u001b[39m\u001b[38;5;124mMultipleLines\u001b[39m\u001b[38;5;124m'\u001b[39m,\u001b[38;5;124m'\u001b[39m\u001b[38;5;124mOnlineSecurity\u001b[39m\u001b[38;5;124m'\u001b[39m,\u001b[38;5;124m'\u001b[39m\u001b[38;5;124mOnlineBackup\u001b[39m\u001b[38;5;124m'\u001b[39m,\u001b[38;5;124m'\u001b[39m\u001b[38;5;124mDeviceProtection\u001b[39m\u001b[38;5;124m'\u001b[39m,\u001b[38;5;124m'\u001b[39m\u001b[38;5;124mTechSupport\u001b[39m\u001b[38;5;124m'\u001b[39m,\u001b[38;5;124m'\u001b[39m\u001b[38;5;124mStreamingTV\u001b[39m\u001b[38;5;124m'\u001b[39m,\u001b[38;5;124m'\u001b[39m\u001b[38;5;124mStreamingMovies\u001b[39m\u001b[38;5;124m'\u001b[39m,\u001b[38;5;124m'\u001b[39m\u001b[38;5;124mPaperlessBilling\u001b[39m\u001b[38;5;124m'\u001b[39m,\u001b[38;5;124m'\u001b[39m\u001b[38;5;124mChurn\u001b[39m\u001b[38;5;124m'\u001b[39m]\n\u001b[0;32m      3\u001b[0m \u001b[38;5;28;01mfor\u001b[39;00m i \u001b[38;5;129;01min\u001b[39;00m yes_no_columns:\n\u001b[1;32m----> 4\u001b[0m     df1\u001b[38;5;241m.\u001b[39mloc[:,i]\u001b[38;5;241m=\u001b[39mdf1\u001b[38;5;241m.\u001b[39mloc[:,i]\u001b[38;5;241m.\u001b[39mreplace({\u001b[38;5;124m'\u001b[39m\u001b[38;5;124mYes\u001b[39m\u001b[38;5;124m'\u001b[39m:\u001b[38;5;241m1\u001b[39m,\u001b[38;5;124m\"\u001b[39m\u001b[38;5;124mNo\u001b[39m\u001b[38;5;124m\"\u001b[39m:\u001b[38;5;241m0\u001b[39m})\u001b[38;5;241m.\u001b[39minfer_objects(copy\u001b[38;5;241m=\u001b[39m\u001b[38;5;28;01mFalse\u001b[39;00m)\n\u001b[0;32m      5\u001b[0m \u001b[38;5;28;01mfor\u001b[39;00m col \u001b[38;5;129;01min\u001b[39;00m df1:\n\u001b[0;32m      6\u001b[0m     \u001b[38;5;28mprint\u001b[39m(\u001b[38;5;124mf\u001b[39m\u001b[38;5;124m'\u001b[39m\u001b[38;5;132;01m{\u001b[39;00mcol\u001b[38;5;132;01m}\u001b[39;00m\u001b[38;5;124m:\u001b[39m\u001b[38;5;132;01m{\u001b[39;00mdf1[col]\u001b[38;5;241m.\u001b[39munique()\u001b[38;5;132;01m}\u001b[39;00m\u001b[38;5;124m'\u001b[39m)\n",
      "\u001b[1;31mTypeError\u001b[0m: NDFrame.infer_objects() got an unexpected keyword argument 'copy'"
     ]
    }
   ],
   "source": [
    "yes_no_columns=['Partner','Dependents','PhoneService','MultipleLines','OnlineSecurity','OnlineBackup','DeviceProtection','TechSupport','StreamingTV','StreamingMovies','PaperlessBilling','Churn']\n",
    "\n",
    "for i in yes_no_columns:\n",
    "    df1.loc[:,i]=df1.loc[:,i].replace({'Yes':1,\"No\":0}).infer_objects(copy=False)\n",
    "for col in df1:\n",
    "    print(f'{col}:{df1[col].unique()}')\n",
    "    "
   ]
  },
  {
   "cell_type": "code",
   "execution_count": 29,
   "id": "6c9bc8c6",
   "metadata": {
    "execution": {
     "iopub.execute_input": "2024-03-12T15:57:15.459918Z",
     "iopub.status.busy": "2024-03-12T15:57:15.459330Z",
     "iopub.status.idle": "2024-03-12T15:57:15.472995Z",
     "shell.execute_reply": "2024-03-12T15:57:15.471902Z"
    },
    "papermill": {
     "duration": 0.03756,
     "end_time": "2024-03-12T15:57:15.475372",
     "exception": false,
     "start_time": "2024-03-12T15:57:15.437812",
     "status": "completed"
    },
    "tags": []
   },
   "outputs": [
    {
     "ename": "TypeError",
     "evalue": "NDFrame.infer_objects() got an unexpected keyword argument 'copy'",
     "output_type": "error",
     "traceback": [
      "\u001b[1;31m---------------------------------------------------------------------------\u001b[0m",
      "\u001b[1;31mTypeError\u001b[0m                                 Traceback (most recent call last)",
      "Cell \u001b[1;32mIn[29], line 1\u001b[0m\n\u001b[1;32m----> 1\u001b[0m df1\u001b[38;5;241m.\u001b[39mloc[:,\u001b[38;5;124m'\u001b[39m\u001b[38;5;124mgender\u001b[39m\u001b[38;5;124m'\u001b[39m] \u001b[38;5;241m=\u001b[39m df1[\u001b[38;5;124m'\u001b[39m\u001b[38;5;124mgender\u001b[39m\u001b[38;5;124m'\u001b[39m]\u001b[38;5;241m.\u001b[39mreplace({\u001b[38;5;124m'\u001b[39m\u001b[38;5;124mFemale\u001b[39m\u001b[38;5;124m'\u001b[39m: \u001b[38;5;241m1\u001b[39m, \u001b[38;5;124m'\u001b[39m\u001b[38;5;124mMale\u001b[39m\u001b[38;5;124m'\u001b[39m: \u001b[38;5;241m0\u001b[39m})\u001b[38;5;241m.\u001b[39minfer_objects(copy\u001b[38;5;241m=\u001b[39m\u001b[38;5;28;01mFalse\u001b[39;00m)\n",
      "\u001b[1;31mTypeError\u001b[0m: NDFrame.infer_objects() got an unexpected keyword argument 'copy'"
     ]
    }
   ],
   "source": [
    "df1.loc[:,'gender'] = df1['gender'].replace({'Female': 1, 'Male': 0}).infer_objects(copy=False)\n",
    " "
   ]
  },
  {
   "cell_type": "code",
   "execution_count": 30,
   "id": "8fd33e4e",
   "metadata": {
    "execution": {
     "iopub.execute_input": "2024-03-12T15:57:15.518167Z",
     "iopub.status.busy": "2024-03-12T15:57:15.517188Z",
     "iopub.status.idle": "2024-03-12T15:57:15.524306Z",
     "shell.execute_reply": "2024-03-12T15:57:15.523314Z"
    },
    "papermill": {
     "duration": 0.031066,
     "end_time": "2024-03-12T15:57:15.526652",
     "exception": false,
     "start_time": "2024-03-12T15:57:15.495586",
     "status": "completed"
    },
    "tags": []
   },
   "outputs": [
    {
     "data": {
      "text/plain": [
       "array(['Female', 'Male'], dtype=object)"
      ]
     },
     "execution_count": 30,
     "metadata": {},
     "output_type": "execute_result"
    }
   ],
   "source": [
    "df1['gender'].unique()"
   ]
  },
  {
   "cell_type": "code",
   "execution_count": 31,
   "id": "65c98572",
   "metadata": {
    "execution": {
     "iopub.execute_input": "2024-03-12T15:57:15.629174Z",
     "iopub.status.busy": "2024-03-12T15:57:15.628755Z",
     "iopub.status.idle": "2024-03-12T15:57:15.646382Z",
     "shell.execute_reply": "2024-03-12T15:57:15.645201Z"
    },
    "papermill": {
     "duration": 0.041796,
     "end_time": "2024-03-12T15:57:15.649043",
     "exception": false,
     "start_time": "2024-03-12T15:57:15.607247",
     "status": "completed"
    },
    "tags": []
   },
   "outputs": [
    {
     "data": {
      "text/plain": [
       "Index(['gender', 'SeniorCitizen', 'Partner', 'Dependents', 'tenure',\n",
       "       'PhoneService', 'MultipleLines', 'OnlineSecurity', 'OnlineBackup',\n",
       "       'DeviceProtection', 'TechSupport', 'StreamingTV', 'StreamingMovies',\n",
       "       'PaperlessBilling', 'MonthlyCharges', 'TotalCharges', 'Churn',\n",
       "       'InternetService_DSL', 'InternetService_Fiber optic',\n",
       "       'InternetService_No', 'Contract_Month-to-month', 'Contract_One year',\n",
       "       'Contract_Two year', 'PaymentMethod_Bank transfer (automatic)',\n",
       "       'PaymentMethod_Credit card (automatic)',\n",
       "       'PaymentMethod_Electronic check', 'PaymentMethod_Mailed check'],\n",
       "      dtype='object')"
      ]
     },
     "execution_count": 31,
     "metadata": {},
     "output_type": "execute_result"
    }
   ],
   "source": [
    "df2=pd.get_dummies(data=df1,columns=['InternetService','Contract','PaymentMethod'])\n",
    "df2.columns"
   ]
  },
  {
   "cell_type": "code",
   "execution_count": 32,
   "id": "3d9f5aa1",
   "metadata": {
    "execution": {
     "iopub.execute_input": "2024-03-12T15:57:15.692695Z",
     "iopub.status.busy": "2024-03-12T15:57:15.691944Z",
     "iopub.status.idle": "2024-03-12T15:57:15.716047Z",
     "shell.execute_reply": "2024-03-12T15:57:15.714896Z"
    },
    "papermill": {
     "duration": 0.048651,
     "end_time": "2024-03-12T15:57:15.718344",
     "exception": false,
     "start_time": "2024-03-12T15:57:15.669693",
     "status": "completed"
    },
    "tags": []
   },
   "outputs": [
    {
     "data": {
      "text/html": [
       "<div>\n",
       "<style scoped>\n",
       "    .dataframe tbody tr th:only-of-type {\n",
       "        vertical-align: middle;\n",
       "    }\n",
       "\n",
       "    .dataframe tbody tr th {\n",
       "        vertical-align: top;\n",
       "    }\n",
       "\n",
       "    .dataframe thead th {\n",
       "        text-align: right;\n",
       "    }\n",
       "</style>\n",
       "<table border=\"1\" class=\"dataframe\">\n",
       "  <thead>\n",
       "    <tr style=\"text-align: right;\">\n",
       "      <th></th>\n",
       "      <th>gender</th>\n",
       "      <th>SeniorCitizen</th>\n",
       "      <th>Partner</th>\n",
       "      <th>Dependents</th>\n",
       "      <th>tenure</th>\n",
       "      <th>PhoneService</th>\n",
       "      <th>MultipleLines</th>\n",
       "      <th>OnlineSecurity</th>\n",
       "      <th>OnlineBackup</th>\n",
       "      <th>DeviceProtection</th>\n",
       "      <th>...</th>\n",
       "      <th>InternetService_DSL</th>\n",
       "      <th>InternetService_Fiber optic</th>\n",
       "      <th>InternetService_No</th>\n",
       "      <th>Contract_Month-to-month</th>\n",
       "      <th>Contract_One year</th>\n",
       "      <th>Contract_Two year</th>\n",
       "      <th>PaymentMethod_Bank transfer (automatic)</th>\n",
       "      <th>PaymentMethod_Credit card (automatic)</th>\n",
       "      <th>PaymentMethod_Electronic check</th>\n",
       "      <th>PaymentMethod_Mailed check</th>\n",
       "    </tr>\n",
       "  </thead>\n",
       "  <tbody>\n",
       "    <tr>\n",
       "      <th>3318</th>\n",
       "      <td>Male</td>\n",
       "      <td>0</td>\n",
       "      <td>No</td>\n",
       "      <td>No</td>\n",
       "      <td>10</td>\n",
       "      <td>No</td>\n",
       "      <td>No phone service</td>\n",
       "      <td>No</td>\n",
       "      <td>No</td>\n",
       "      <td>Yes</td>\n",
       "      <td>...</td>\n",
       "      <td>1</td>\n",
       "      <td>0</td>\n",
       "      <td>0</td>\n",
       "      <td>1</td>\n",
       "      <td>0</td>\n",
       "      <td>0</td>\n",
       "      <td>0</td>\n",
       "      <td>0</td>\n",
       "      <td>0</td>\n",
       "      <td>1</td>\n",
       "    </tr>\n",
       "    <tr>\n",
       "      <th>4677</th>\n",
       "      <td>Male</td>\n",
       "      <td>0</td>\n",
       "      <td>Yes</td>\n",
       "      <td>No</td>\n",
       "      <td>10</td>\n",
       "      <td>Yes</td>\n",
       "      <td>No</td>\n",
       "      <td>No</td>\n",
       "      <td>Yes</td>\n",
       "      <td>No</td>\n",
       "      <td>...</td>\n",
       "      <td>0</td>\n",
       "      <td>1</td>\n",
       "      <td>0</td>\n",
       "      <td>1</td>\n",
       "      <td>0</td>\n",
       "      <td>0</td>\n",
       "      <td>0</td>\n",
       "      <td>0</td>\n",
       "      <td>1</td>\n",
       "      <td>0</td>\n",
       "    </tr>\n",
       "    <tr>\n",
       "      <th>6173</th>\n",
       "      <td>Male</td>\n",
       "      <td>1</td>\n",
       "      <td>No</td>\n",
       "      <td>No</td>\n",
       "      <td>35</td>\n",
       "      <td>Yes</td>\n",
       "      <td>Yes</td>\n",
       "      <td>Yes</td>\n",
       "      <td>No</td>\n",
       "      <td>No</td>\n",
       "      <td>...</td>\n",
       "      <td>0</td>\n",
       "      <td>1</td>\n",
       "      <td>0</td>\n",
       "      <td>1</td>\n",
       "      <td>0</td>\n",
       "      <td>0</td>\n",
       "      <td>0</td>\n",
       "      <td>1</td>\n",
       "      <td>0</td>\n",
       "      <td>0</td>\n",
       "    </tr>\n",
       "    <tr>\n",
       "      <th>4102</th>\n",
       "      <td>Male</td>\n",
       "      <td>0</td>\n",
       "      <td>Yes</td>\n",
       "      <td>Yes</td>\n",
       "      <td>7</td>\n",
       "      <td>Yes</td>\n",
       "      <td>No</td>\n",
       "      <td>No</td>\n",
       "      <td>No</td>\n",
       "      <td>No</td>\n",
       "      <td>...</td>\n",
       "      <td>1</td>\n",
       "      <td>0</td>\n",
       "      <td>0</td>\n",
       "      <td>1</td>\n",
       "      <td>0</td>\n",
       "      <td>0</td>\n",
       "      <td>0</td>\n",
       "      <td>0</td>\n",
       "      <td>1</td>\n",
       "      <td>0</td>\n",
       "    </tr>\n",
       "  </tbody>\n",
       "</table>\n",
       "<p>4 rows × 27 columns</p>\n",
       "</div>"
      ],
      "text/plain": [
       "     gender  SeniorCitizen Partner Dependents  tenure PhoneService  \\\n",
       "3318   Male              0      No         No      10           No   \n",
       "4677   Male              0     Yes         No      10          Yes   \n",
       "6173   Male              1      No         No      35          Yes   \n",
       "4102   Male              0     Yes        Yes       7          Yes   \n",
       "\n",
       "         MultipleLines OnlineSecurity OnlineBackup DeviceProtection  ...  \\\n",
       "3318  No phone service             No           No              Yes  ...   \n",
       "4677                No             No          Yes               No  ...   \n",
       "6173               Yes            Yes           No               No  ...   \n",
       "4102                No             No           No               No  ...   \n",
       "\n",
       "     InternetService_DSL InternetService_Fiber optic InternetService_No  \\\n",
       "3318                   1                           0                  0   \n",
       "4677                   0                           1                  0   \n",
       "6173                   0                           1                  0   \n",
       "4102                   1                           0                  0   \n",
       "\n",
       "     Contract_Month-to-month  Contract_One year  Contract_Two year  \\\n",
       "3318                       1                  0                  0   \n",
       "4677                       1                  0                  0   \n",
       "6173                       1                  0                  0   \n",
       "4102                       1                  0                  0   \n",
       "\n",
       "     PaymentMethod_Bank transfer (automatic)  \\\n",
       "3318                                       0   \n",
       "4677                                       0   \n",
       "6173                                       0   \n",
       "4102                                       0   \n",
       "\n",
       "      PaymentMethod_Credit card (automatic)  PaymentMethod_Electronic check  \\\n",
       "3318                                      0                               0   \n",
       "4677                                      0                               1   \n",
       "6173                                      1                               0   \n",
       "4102                                      0                               1   \n",
       "\n",
       "      PaymentMethod_Mailed check  \n",
       "3318                           1  \n",
       "4677                           0  \n",
       "6173                           0  \n",
       "4102                           0  \n",
       "\n",
       "[4 rows x 27 columns]"
      ]
     },
     "execution_count": 32,
     "metadata": {},
     "output_type": "execute_result"
    }
   ],
   "source": [
    "df2.sample(4)"
   ]
  },
  {
   "cell_type": "code",
   "execution_count": 33,
   "id": "7879dd40",
   "metadata": {
    "execution": {
     "iopub.execute_input": "2024-03-12T15:57:15.763537Z",
     "iopub.status.busy": "2024-03-12T15:57:15.763159Z",
     "iopub.status.idle": "2024-03-12T15:57:15.845021Z",
     "shell.execute_reply": "2024-03-12T15:57:15.843738Z"
    },
    "papermill": {
     "duration": 0.107069,
     "end_time": "2024-03-12T15:57:15.847654",
     "exception": false,
     "start_time": "2024-03-12T15:57:15.740585",
     "status": "completed"
    },
    "tags": []
   },
   "outputs": [],
   "source": [
    "df2.loc[:, df2.dtypes == bool] = df2.loc[:, df2.dtypes == bool].replace({False: 0, True: 1})\n"
   ]
  },
  {
   "cell_type": "code",
   "execution_count": 34,
   "id": "28850511",
   "metadata": {
    "execution": {
     "iopub.execute_input": "2024-03-12T15:57:15.892043Z",
     "iopub.status.busy": "2024-03-12T15:57:15.891401Z",
     "iopub.status.idle": "2024-03-12T15:57:15.914384Z",
     "shell.execute_reply": "2024-03-12T15:57:15.913235Z"
    },
    "papermill": {
     "duration": 0.048062,
     "end_time": "2024-03-12T15:57:15.916774",
     "exception": false,
     "start_time": "2024-03-12T15:57:15.868712",
     "status": "completed"
    },
    "tags": []
   },
   "outputs": [
    {
     "data": {
      "text/html": [
       "<div>\n",
       "<style scoped>\n",
       "    .dataframe tbody tr th:only-of-type {\n",
       "        vertical-align: middle;\n",
       "    }\n",
       "\n",
       "    .dataframe tbody tr th {\n",
       "        vertical-align: top;\n",
       "    }\n",
       "\n",
       "    .dataframe thead th {\n",
       "        text-align: right;\n",
       "    }\n",
       "</style>\n",
       "<table border=\"1\" class=\"dataframe\">\n",
       "  <thead>\n",
       "    <tr style=\"text-align: right;\">\n",
       "      <th></th>\n",
       "      <th>gender</th>\n",
       "      <th>SeniorCitizen</th>\n",
       "      <th>Partner</th>\n",
       "      <th>Dependents</th>\n",
       "      <th>tenure</th>\n",
       "      <th>PhoneService</th>\n",
       "      <th>MultipleLines</th>\n",
       "      <th>OnlineSecurity</th>\n",
       "      <th>OnlineBackup</th>\n",
       "      <th>DeviceProtection</th>\n",
       "      <th>...</th>\n",
       "      <th>InternetService_DSL</th>\n",
       "      <th>InternetService_Fiber optic</th>\n",
       "      <th>InternetService_No</th>\n",
       "      <th>Contract_Month-to-month</th>\n",
       "      <th>Contract_One year</th>\n",
       "      <th>Contract_Two year</th>\n",
       "      <th>PaymentMethod_Bank transfer (automatic)</th>\n",
       "      <th>PaymentMethod_Credit card (automatic)</th>\n",
       "      <th>PaymentMethod_Electronic check</th>\n",
       "      <th>PaymentMethod_Mailed check</th>\n",
       "    </tr>\n",
       "  </thead>\n",
       "  <tbody>\n",
       "    <tr>\n",
       "      <th>5208</th>\n",
       "      <td>Female</td>\n",
       "      <td>0</td>\n",
       "      <td>Yes</td>\n",
       "      <td>Yes</td>\n",
       "      <td>14</td>\n",
       "      <td>Yes</td>\n",
       "      <td>No</td>\n",
       "      <td>Yes</td>\n",
       "      <td>Yes</td>\n",
       "      <td>No</td>\n",
       "      <td>...</td>\n",
       "      <td>1</td>\n",
       "      <td>0</td>\n",
       "      <td>0</td>\n",
       "      <td>1</td>\n",
       "      <td>0</td>\n",
       "      <td>0</td>\n",
       "      <td>1</td>\n",
       "      <td>0</td>\n",
       "      <td>0</td>\n",
       "      <td>0</td>\n",
       "    </tr>\n",
       "    <tr>\n",
       "      <th>590</th>\n",
       "      <td>Male</td>\n",
       "      <td>0</td>\n",
       "      <td>Yes</td>\n",
       "      <td>No</td>\n",
       "      <td>72</td>\n",
       "      <td>Yes</td>\n",
       "      <td>Yes</td>\n",
       "      <td>Yes</td>\n",
       "      <td>No</td>\n",
       "      <td>Yes</td>\n",
       "      <td>...</td>\n",
       "      <td>0</td>\n",
       "      <td>1</td>\n",
       "      <td>0</td>\n",
       "      <td>0</td>\n",
       "      <td>0</td>\n",
       "      <td>1</td>\n",
       "      <td>0</td>\n",
       "      <td>1</td>\n",
       "      <td>0</td>\n",
       "      <td>0</td>\n",
       "    </tr>\n",
       "    <tr>\n",
       "      <th>6713</th>\n",
       "      <td>Male</td>\n",
       "      <td>1</td>\n",
       "      <td>No</td>\n",
       "      <td>No</td>\n",
       "      <td>68</td>\n",
       "      <td>Yes</td>\n",
       "      <td>Yes</td>\n",
       "      <td>No</td>\n",
       "      <td>Yes</td>\n",
       "      <td>Yes</td>\n",
       "      <td>...</td>\n",
       "      <td>0</td>\n",
       "      <td>1</td>\n",
       "      <td>0</td>\n",
       "      <td>1</td>\n",
       "      <td>0</td>\n",
       "      <td>0</td>\n",
       "      <td>0</td>\n",
       "      <td>0</td>\n",
       "      <td>1</td>\n",
       "      <td>0</td>\n",
       "    </tr>\n",
       "    <tr>\n",
       "      <th>6630</th>\n",
       "      <td>Male</td>\n",
       "      <td>1</td>\n",
       "      <td>No</td>\n",
       "      <td>No</td>\n",
       "      <td>16</td>\n",
       "      <td>Yes</td>\n",
       "      <td>No</td>\n",
       "      <td>No</td>\n",
       "      <td>No</td>\n",
       "      <td>No</td>\n",
       "      <td>...</td>\n",
       "      <td>0</td>\n",
       "      <td>1</td>\n",
       "      <td>0</td>\n",
       "      <td>1</td>\n",
       "      <td>0</td>\n",
       "      <td>0</td>\n",
       "      <td>0</td>\n",
       "      <td>0</td>\n",
       "      <td>1</td>\n",
       "      <td>0</td>\n",
       "    </tr>\n",
       "  </tbody>\n",
       "</table>\n",
       "<p>4 rows × 27 columns</p>\n",
       "</div>"
      ],
      "text/plain": [
       "      gender  SeniorCitizen Partner Dependents  tenure PhoneService  \\\n",
       "5208  Female              0     Yes        Yes      14          Yes   \n",
       "590     Male              0     Yes         No      72          Yes   \n",
       "6713    Male              1      No         No      68          Yes   \n",
       "6630    Male              1      No         No      16          Yes   \n",
       "\n",
       "     MultipleLines OnlineSecurity OnlineBackup DeviceProtection  ...  \\\n",
       "5208            No            Yes          Yes               No  ...   \n",
       "590            Yes            Yes           No              Yes  ...   \n",
       "6713           Yes             No          Yes              Yes  ...   \n",
       "6630            No             No           No               No  ...   \n",
       "\n",
       "     InternetService_DSL InternetService_Fiber optic InternetService_No  \\\n",
       "5208                   1                           0                  0   \n",
       "590                    0                           1                  0   \n",
       "6713                   0                           1                  0   \n",
       "6630                   0                           1                  0   \n",
       "\n",
       "     Contract_Month-to-month  Contract_One year  Contract_Two year  \\\n",
       "5208                       1                  0                  0   \n",
       "590                        0                  0                  1   \n",
       "6713                       1                  0                  0   \n",
       "6630                       1                  0                  0   \n",
       "\n",
       "     PaymentMethod_Bank transfer (automatic)  \\\n",
       "5208                                       1   \n",
       "590                                        0   \n",
       "6713                                       0   \n",
       "6630                                       0   \n",
       "\n",
       "      PaymentMethod_Credit card (automatic)  PaymentMethod_Electronic check  \\\n",
       "5208                                      0                               0   \n",
       "590                                       1                               0   \n",
       "6713                                      0                               1   \n",
       "6630                                      0                               1   \n",
       "\n",
       "      PaymentMethod_Mailed check  \n",
       "5208                           0  \n",
       "590                            0  \n",
       "6713                           0  \n",
       "6630                           0  \n",
       "\n",
       "[4 rows x 27 columns]"
      ]
     },
     "execution_count": 34,
     "metadata": {},
     "output_type": "execute_result"
    }
   ],
   "source": [
    "df2.sample(4)"
   ]
  },
  {
   "cell_type": "code",
   "execution_count": 35,
   "id": "adaf2a09",
   "metadata": {
    "execution": {
     "iopub.execute_input": "2024-03-12T15:57:15.961978Z",
     "iopub.status.busy": "2024-03-12T15:57:15.961553Z",
     "iopub.status.idle": "2024-03-12T15:57:15.970016Z",
     "shell.execute_reply": "2024-03-12T15:57:15.968813Z"
    },
    "papermill": {
     "duration": 0.033904,
     "end_time": "2024-03-12T15:57:15.972546",
     "exception": false,
     "start_time": "2024-03-12T15:57:15.938642",
     "status": "completed"
    },
    "tags": []
   },
   "outputs": [
    {
     "ename": "KeyError",
     "evalue": "\"['customerID'] not found in axis\"",
     "output_type": "error",
     "traceback": [
      "\u001b[1;31m---------------------------------------------------------------------------\u001b[0m",
      "\u001b[1;31mKeyError\u001b[0m                                  Traceback (most recent call last)",
      "Cell \u001b[1;32mIn[35], line 1\u001b[0m\n\u001b[1;32m----> 1\u001b[0m df2\u001b[38;5;241m.\u001b[39mdrop(\u001b[38;5;124m'\u001b[39m\u001b[38;5;124mcustomerID\u001b[39m\u001b[38;5;124m'\u001b[39m, axis\u001b[38;5;241m=\u001b[39m\u001b[38;5;241m1\u001b[39m, inplace\u001b[38;5;241m=\u001b[39m\u001b[38;5;28;01mTrue\u001b[39;00m)\n",
      "File \u001b[1;32mC:\\ProgramData\\anaconda3\\Lib\\site-packages\\pandas\\util\\_decorators.py:331\u001b[0m, in \u001b[0;36mdeprecate_nonkeyword_arguments.<locals>.decorate.<locals>.wrapper\u001b[1;34m(*args, **kwargs)\u001b[0m\n\u001b[0;32m    325\u001b[0m \u001b[38;5;28;01mif\u001b[39;00m \u001b[38;5;28mlen\u001b[39m(args) \u001b[38;5;241m>\u001b[39m num_allow_args:\n\u001b[0;32m    326\u001b[0m     warnings\u001b[38;5;241m.\u001b[39mwarn(\n\u001b[0;32m    327\u001b[0m         msg\u001b[38;5;241m.\u001b[39mformat(arguments\u001b[38;5;241m=\u001b[39m_format_argument_list(allow_args)),\n\u001b[0;32m    328\u001b[0m         \u001b[38;5;167;01mFutureWarning\u001b[39;00m,\n\u001b[0;32m    329\u001b[0m         stacklevel\u001b[38;5;241m=\u001b[39mfind_stack_level(),\n\u001b[0;32m    330\u001b[0m     )\n\u001b[1;32m--> 331\u001b[0m \u001b[38;5;28;01mreturn\u001b[39;00m func(\u001b[38;5;241m*\u001b[39margs, \u001b[38;5;241m*\u001b[39m\u001b[38;5;241m*\u001b[39mkwargs)\n",
      "File \u001b[1;32mC:\\ProgramData\\anaconda3\\Lib\\site-packages\\pandas\\core\\frame.py:5399\u001b[0m, in \u001b[0;36mDataFrame.drop\u001b[1;34m(self, labels, axis, index, columns, level, inplace, errors)\u001b[0m\n\u001b[0;32m   5251\u001b[0m \u001b[38;5;129m@deprecate_nonkeyword_arguments\u001b[39m(version\u001b[38;5;241m=\u001b[39m\u001b[38;5;28;01mNone\u001b[39;00m, allowed_args\u001b[38;5;241m=\u001b[39m[\u001b[38;5;124m\"\u001b[39m\u001b[38;5;124mself\u001b[39m\u001b[38;5;124m\"\u001b[39m, \u001b[38;5;124m\"\u001b[39m\u001b[38;5;124mlabels\u001b[39m\u001b[38;5;124m\"\u001b[39m])\n\u001b[0;32m   5252\u001b[0m \u001b[38;5;28;01mdef\u001b[39;00m \u001b[38;5;21mdrop\u001b[39m(  \u001b[38;5;66;03m# type: ignore[override]\u001b[39;00m\n\u001b[0;32m   5253\u001b[0m     \u001b[38;5;28mself\u001b[39m,\n\u001b[1;32m   (...)\u001b[0m\n\u001b[0;32m   5260\u001b[0m     errors: IgnoreRaise \u001b[38;5;241m=\u001b[39m \u001b[38;5;124m\"\u001b[39m\u001b[38;5;124mraise\u001b[39m\u001b[38;5;124m\"\u001b[39m,\n\u001b[0;32m   5261\u001b[0m ) \u001b[38;5;241m-\u001b[39m\u001b[38;5;241m>\u001b[39m DataFrame \u001b[38;5;241m|\u001b[39m \u001b[38;5;28;01mNone\u001b[39;00m:\n\u001b[0;32m   5262\u001b[0m \u001b[38;5;250m    \u001b[39m\u001b[38;5;124;03m\"\"\"\u001b[39;00m\n\u001b[0;32m   5263\u001b[0m \u001b[38;5;124;03m    Drop specified labels from rows or columns.\u001b[39;00m\n\u001b[0;32m   5264\u001b[0m \n\u001b[1;32m   (...)\u001b[0m\n\u001b[0;32m   5397\u001b[0m \u001b[38;5;124;03m            weight  1.0     0.8\u001b[39;00m\n\u001b[0;32m   5398\u001b[0m \u001b[38;5;124;03m    \"\"\"\u001b[39;00m\n\u001b[1;32m-> 5399\u001b[0m     \u001b[38;5;28;01mreturn\u001b[39;00m \u001b[38;5;28msuper\u001b[39m()\u001b[38;5;241m.\u001b[39mdrop(\n\u001b[0;32m   5400\u001b[0m         labels\u001b[38;5;241m=\u001b[39mlabels,\n\u001b[0;32m   5401\u001b[0m         axis\u001b[38;5;241m=\u001b[39maxis,\n\u001b[0;32m   5402\u001b[0m         index\u001b[38;5;241m=\u001b[39mindex,\n\u001b[0;32m   5403\u001b[0m         columns\u001b[38;5;241m=\u001b[39mcolumns,\n\u001b[0;32m   5404\u001b[0m         level\u001b[38;5;241m=\u001b[39mlevel,\n\u001b[0;32m   5405\u001b[0m         inplace\u001b[38;5;241m=\u001b[39minplace,\n\u001b[0;32m   5406\u001b[0m         errors\u001b[38;5;241m=\u001b[39merrors,\n\u001b[0;32m   5407\u001b[0m     )\n",
      "File \u001b[1;32mC:\\ProgramData\\anaconda3\\Lib\\site-packages\\pandas\\util\\_decorators.py:331\u001b[0m, in \u001b[0;36mdeprecate_nonkeyword_arguments.<locals>.decorate.<locals>.wrapper\u001b[1;34m(*args, **kwargs)\u001b[0m\n\u001b[0;32m    325\u001b[0m \u001b[38;5;28;01mif\u001b[39;00m \u001b[38;5;28mlen\u001b[39m(args) \u001b[38;5;241m>\u001b[39m num_allow_args:\n\u001b[0;32m    326\u001b[0m     warnings\u001b[38;5;241m.\u001b[39mwarn(\n\u001b[0;32m    327\u001b[0m         msg\u001b[38;5;241m.\u001b[39mformat(arguments\u001b[38;5;241m=\u001b[39m_format_argument_list(allow_args)),\n\u001b[0;32m    328\u001b[0m         \u001b[38;5;167;01mFutureWarning\u001b[39;00m,\n\u001b[0;32m    329\u001b[0m         stacklevel\u001b[38;5;241m=\u001b[39mfind_stack_level(),\n\u001b[0;32m    330\u001b[0m     )\n\u001b[1;32m--> 331\u001b[0m \u001b[38;5;28;01mreturn\u001b[39;00m func(\u001b[38;5;241m*\u001b[39margs, \u001b[38;5;241m*\u001b[39m\u001b[38;5;241m*\u001b[39mkwargs)\n",
      "File \u001b[1;32mC:\\ProgramData\\anaconda3\\Lib\\site-packages\\pandas\\core\\generic.py:4505\u001b[0m, in \u001b[0;36mNDFrame.drop\u001b[1;34m(self, labels, axis, index, columns, level, inplace, errors)\u001b[0m\n\u001b[0;32m   4503\u001b[0m \u001b[38;5;28;01mfor\u001b[39;00m axis, labels \u001b[38;5;129;01min\u001b[39;00m axes\u001b[38;5;241m.\u001b[39mitems():\n\u001b[0;32m   4504\u001b[0m     \u001b[38;5;28;01mif\u001b[39;00m labels \u001b[38;5;129;01mis\u001b[39;00m \u001b[38;5;129;01mnot\u001b[39;00m \u001b[38;5;28;01mNone\u001b[39;00m:\n\u001b[1;32m-> 4505\u001b[0m         obj \u001b[38;5;241m=\u001b[39m obj\u001b[38;5;241m.\u001b[39m_drop_axis(labels, axis, level\u001b[38;5;241m=\u001b[39mlevel, errors\u001b[38;5;241m=\u001b[39merrors)\n\u001b[0;32m   4507\u001b[0m \u001b[38;5;28;01mif\u001b[39;00m inplace:\n\u001b[0;32m   4508\u001b[0m     \u001b[38;5;28mself\u001b[39m\u001b[38;5;241m.\u001b[39m_update_inplace(obj)\n",
      "File \u001b[1;32mC:\\ProgramData\\anaconda3\\Lib\\site-packages\\pandas\\core\\generic.py:4546\u001b[0m, in \u001b[0;36mNDFrame._drop_axis\u001b[1;34m(self, labels, axis, level, errors, only_slice)\u001b[0m\n\u001b[0;32m   4544\u001b[0m         new_axis \u001b[38;5;241m=\u001b[39m axis\u001b[38;5;241m.\u001b[39mdrop(labels, level\u001b[38;5;241m=\u001b[39mlevel, errors\u001b[38;5;241m=\u001b[39merrors)\n\u001b[0;32m   4545\u001b[0m     \u001b[38;5;28;01melse\u001b[39;00m:\n\u001b[1;32m-> 4546\u001b[0m         new_axis \u001b[38;5;241m=\u001b[39m axis\u001b[38;5;241m.\u001b[39mdrop(labels, errors\u001b[38;5;241m=\u001b[39merrors)\n\u001b[0;32m   4547\u001b[0m     indexer \u001b[38;5;241m=\u001b[39m axis\u001b[38;5;241m.\u001b[39mget_indexer(new_axis)\n\u001b[0;32m   4549\u001b[0m \u001b[38;5;66;03m# Case for non-unique axis\u001b[39;00m\n\u001b[0;32m   4550\u001b[0m \u001b[38;5;28;01melse\u001b[39;00m:\n",
      "File \u001b[1;32mC:\\ProgramData\\anaconda3\\Lib\\site-packages\\pandas\\core\\indexes\\base.py:6934\u001b[0m, in \u001b[0;36mIndex.drop\u001b[1;34m(self, labels, errors)\u001b[0m\n\u001b[0;32m   6932\u001b[0m \u001b[38;5;28;01mif\u001b[39;00m mask\u001b[38;5;241m.\u001b[39many():\n\u001b[0;32m   6933\u001b[0m     \u001b[38;5;28;01mif\u001b[39;00m errors \u001b[38;5;241m!=\u001b[39m \u001b[38;5;124m\"\u001b[39m\u001b[38;5;124mignore\u001b[39m\u001b[38;5;124m\"\u001b[39m:\n\u001b[1;32m-> 6934\u001b[0m         \u001b[38;5;28;01mraise\u001b[39;00m \u001b[38;5;167;01mKeyError\u001b[39;00m(\u001b[38;5;124mf\u001b[39m\u001b[38;5;124m\"\u001b[39m\u001b[38;5;132;01m{\u001b[39;00m\u001b[38;5;28mlist\u001b[39m(labels[mask])\u001b[38;5;132;01m}\u001b[39;00m\u001b[38;5;124m not found in axis\u001b[39m\u001b[38;5;124m\"\u001b[39m)\n\u001b[0;32m   6935\u001b[0m     indexer \u001b[38;5;241m=\u001b[39m indexer[\u001b[38;5;241m~\u001b[39mmask]\n\u001b[0;32m   6936\u001b[0m \u001b[38;5;28;01mreturn\u001b[39;00m \u001b[38;5;28mself\u001b[39m\u001b[38;5;241m.\u001b[39mdelete(indexer)\n",
      "\u001b[1;31mKeyError\u001b[0m: \"['customerID'] not found in axis\""
     ]
    }
   ],
   "source": [
    "df2.drop('customerID', axis=1, inplace=True)\n"
   ]
  },
  {
   "cell_type": "code",
   "execution_count": null,
   "id": "886673d0",
   "metadata": {
    "execution": {
     "iopub.execute_input": "2024-03-12T15:57:16.017534Z",
     "iopub.status.busy": "2024-03-12T15:57:16.017182Z",
     "iopub.status.idle": "2024-03-12T15:57:16.040277Z",
     "shell.execute_reply": "2024-03-12T15:57:16.039146Z"
    },
    "papermill": {
     "duration": 0.048652,
     "end_time": "2024-03-12T15:57:16.042756",
     "exception": false,
     "start_time": "2024-03-12T15:57:15.994104",
     "status": "completed"
    },
    "tags": []
   },
   "outputs": [],
   "source": [
    "df2.sample(4)"
   ]
  },
  {
   "cell_type": "code",
   "execution_count": null,
   "id": "57779db7",
   "metadata": {
    "execution": {
     "iopub.execute_input": "2024-03-12T15:57:16.088712Z",
     "iopub.status.busy": "2024-03-12T15:57:16.088324Z",
     "iopub.status.idle": "2024-03-12T15:57:16.097093Z",
     "shell.execute_reply": "2024-03-12T15:57:16.096133Z"
    },
    "papermill": {
     "duration": 0.034932,
     "end_time": "2024-03-12T15:57:16.099486",
     "exception": false,
     "start_time": "2024-03-12T15:57:16.064554",
     "status": "completed"
    },
    "tags": []
   },
   "outputs": [],
   "source": [
    "df2.dtypes"
   ]
  },
  {
   "cell_type": "code",
   "execution_count": null,
   "id": "2019a1b3",
   "metadata": {
    "execution": {
     "iopub.execute_input": "2024-03-12T15:57:16.145937Z",
     "iopub.status.busy": "2024-03-12T15:57:16.145487Z",
     "iopub.status.idle": "2024-03-12T15:57:17.509136Z",
     "shell.execute_reply": "2024-03-12T15:57:17.507897Z"
    },
    "papermill": {
     "duration": 1.390197,
     "end_time": "2024-03-12T15:57:17.511930",
     "exception": false,
     "start_time": "2024-03-12T15:57:16.121733",
     "status": "completed"
    },
    "tags": []
   },
   "outputs": [],
   "source": [
    "cols_to_scale=['tenure','MonthlyCharges','TotalCharges'] \n",
    "\n",
    "from sklearn.preprocessing import MinMaxScaler\n",
    "scaler=MinMaxScaler()\n",
    "df2[cols_to_scale]=scaler.fit_transform(df2[cols_to_scale])"
   ]
  },
  {
   "cell_type": "code",
   "execution_count": null,
   "id": "94dd3537",
   "metadata": {
    "execution": {
     "iopub.execute_input": "2024-03-12T15:57:17.559788Z",
     "iopub.status.busy": "2024-03-12T15:57:17.559370Z",
     "iopub.status.idle": "2024-03-12T15:57:17.587382Z",
     "shell.execute_reply": "2024-03-12T15:57:17.586102Z"
    },
    "papermill": {
     "duration": 0.055358,
     "end_time": "2024-03-12T15:57:17.590354",
     "exception": false,
     "start_time": "2024-03-12T15:57:17.534996",
     "status": "completed"
    },
    "tags": []
   },
   "outputs": [],
   "source": [
    "df2.sample(5)"
   ]
  },
  {
   "cell_type": "code",
   "execution_count": null,
   "id": "b22de518",
   "metadata": {
    "execution": {
     "iopub.execute_input": "2024-03-12T15:57:17.638787Z",
     "iopub.status.busy": "2024-03-12T15:57:17.637562Z",
     "iopub.status.idle": "2024-03-12T15:57:17.656359Z",
     "shell.execute_reply": "2024-03-12T15:57:17.654775Z"
    },
    "papermill": {
     "duration": 0.045232,
     "end_time": "2024-03-12T15:57:17.658784",
     "exception": false,
     "start_time": "2024-03-12T15:57:17.613552",
     "status": "completed"
    },
    "tags": []
   },
   "outputs": [],
   "source": [
    "for col in df2:\n",
    "    print(f'{col}:{df2[col].unique()}')"
   ]
  },
  {
   "cell_type": "code",
   "execution_count": null,
   "id": "4a247f3e",
   "metadata": {
    "execution": {
     "iopub.execute_input": "2024-03-12T15:57:17.706409Z",
     "iopub.status.busy": "2024-03-12T15:57:17.705433Z",
     "iopub.status.idle": "2024-03-12T15:57:17.716531Z",
     "shell.execute_reply": "2024-03-12T15:57:17.714985Z"
    },
    "papermill": {
     "duration": 0.03807,
     "end_time": "2024-03-12T15:57:17.719403",
     "exception": false,
     "start_time": "2024-03-12T15:57:17.681333",
     "status": "completed"
    },
    "tags": []
   },
   "outputs": [],
   "source": [
    "x=df2.drop('Churn',axis='columns')\n",
    "y=df2['Churn']"
   ]
  },
  {
   "cell_type": "code",
   "execution_count": null,
   "id": "50f4db09",
   "metadata": {
    "execution": {
     "iopub.execute_input": "2024-03-12T15:57:17.781225Z",
     "iopub.status.busy": "2024-03-12T15:57:17.780790Z",
     "iopub.status.idle": "2024-03-12T15:57:17.904970Z",
     "shell.execute_reply": "2024-03-12T15:57:17.903484Z"
    },
    "papermill": {
     "duration": 0.157245,
     "end_time": "2024-03-12T15:57:17.908492",
     "exception": false,
     "start_time": "2024-03-12T15:57:17.751247",
     "status": "completed"
    },
    "tags": []
   },
   "outputs": [],
   "source": [
    "from sklearn.model_selection import train_test_split\n",
    "X_train,X_test,Y_train,Y_test=train_test_split(x,y,test_size=0.2,random_state=5)"
   ]
  },
  {
   "cell_type": "code",
   "execution_count": null,
   "id": "6d78fcac",
   "metadata": {
    "execution": {
     "iopub.execute_input": "2024-03-12T15:57:17.973993Z",
     "iopub.status.busy": "2024-03-12T15:57:17.973590Z",
     "iopub.status.idle": "2024-03-12T15:57:17.980745Z",
     "shell.execute_reply": "2024-03-12T15:57:17.979627Z"
    },
    "papermill": {
     "duration": 0.044218,
     "end_time": "2024-03-12T15:57:17.983028",
     "exception": false,
     "start_time": "2024-03-12T15:57:17.938810",
     "status": "completed"
    },
    "tags": []
   },
   "outputs": [],
   "source": [
    "X_train.shape"
   ]
  },
  {
   "cell_type": "code",
   "execution_count": null,
   "id": "ef9bf65e",
   "metadata": {
    "execution": {
     "iopub.execute_input": "2024-03-12T15:57:18.031141Z",
     "iopub.status.busy": "2024-03-12T15:57:18.030348Z",
     "iopub.status.idle": "2024-03-12T15:57:18.037186Z",
     "shell.execute_reply": "2024-03-12T15:57:18.036189Z"
    },
    "papermill": {
     "duration": 0.033428,
     "end_time": "2024-03-12T15:57:18.039393",
     "exception": false,
     "start_time": "2024-03-12T15:57:18.005965",
     "status": "completed"
    },
    "tags": []
   },
   "outputs": [],
   "source": [
    "X_test.shape"
   ]
  },
  {
   "cell_type": "code",
   "execution_count": null,
   "id": "1ac32423",
   "metadata": {
    "execution": {
     "iopub.execute_input": "2024-03-12T15:57:18.087541Z",
     "iopub.status.busy": "2024-03-12T15:57:18.086746Z",
     "iopub.status.idle": "2024-03-12T15:57:18.100460Z",
     "shell.execute_reply": "2024-03-12T15:57:18.099491Z"
    },
    "papermill": {
     "duration": 0.041183,
     "end_time": "2024-03-12T15:57:18.103307",
     "exception": false,
     "start_time": "2024-03-12T15:57:18.062124",
     "status": "completed"
    },
    "tags": []
   },
   "outputs": [],
   "source": [
    "\n",
    "X_train = X_train.astype(np.float32)\n",
    "Y_train = Y_train.astype(np.int32)\n"
   ]
  },
  {
   "cell_type": "code",
   "execution_count": null,
   "id": "2a092afb",
   "metadata": {
    "execution": {
     "iopub.execute_input": "2024-03-12T15:57:18.156710Z",
     "iopub.status.busy": "2024-03-12T15:57:18.156337Z",
     "iopub.status.idle": "2024-03-12T15:58:01.915262Z",
     "shell.execute_reply": "2024-03-12T15:58:01.914066Z"
    },
    "papermill": {
     "duration": 43.788251,
     "end_time": "2024-03-12T15:58:01.917694",
     "exception": false,
     "start_time": "2024-03-12T15:57:18.129443",
     "status": "completed"
    },
    "tags": []
   },
   "outputs": [],
   "source": [
    "import tensorflow as tf\n",
    "from tensorflow import keras\n",
    "\n",
    "model=keras.Sequential([\n",
    "    keras.layers.Dense(20,input_shape=(26,),activation='relu'),\n",
    "    keras.layers.Dense(1,activation='sigmoid')\n",
    "    \n",
    "])\n",
    "\n",
    "model.compile(optimizer='adam',loss='binary_crossentropy',metrics=['accuracy'])\n",
    "\n",
    "model.fit(X_train,Y_train,epochs=100)"
   ]
  },
  {
   "cell_type": "code",
   "execution_count": null,
   "id": "7f0d5ffc",
   "metadata": {
    "execution": {
     "iopub.execute_input": "2024-03-12T15:58:02.102105Z",
     "iopub.status.busy": "2024-03-12T15:58:02.101685Z",
     "iopub.status.idle": "2024-03-12T15:58:02.109604Z",
     "shell.execute_reply": "2024-03-12T15:58:02.108578Z"
    },
    "papermill": {
     "duration": 0.102138,
     "end_time": "2024-03-12T15:58:02.112013",
     "exception": false,
     "start_time": "2024-03-12T15:58:02.009875",
     "status": "completed"
    },
    "tags": []
   },
   "outputs": [],
   "source": [
    "\n",
    "X_test = X_test.astype(np.float32)\n",
    "Y_test = Y_test.astype(np.int32)"
   ]
  },
  {
   "cell_type": "code",
   "execution_count": null,
   "id": "59e950e3",
   "metadata": {
    "execution": {
     "iopub.execute_input": "2024-03-12T15:58:02.294147Z",
     "iopub.status.busy": "2024-03-12T15:58:02.293730Z",
     "iopub.status.idle": "2024-03-12T15:58:02.529365Z",
     "shell.execute_reply": "2024-03-12T15:58:02.528515Z"
    },
    "papermill": {
     "duration": 0.330164,
     "end_time": "2024-03-12T15:58:02.531497",
     "exception": false,
     "start_time": "2024-03-12T15:58:02.201333",
     "status": "completed"
    },
    "tags": []
   },
   "outputs": [],
   "source": [
    "model.evaluate(X_test,Y_test)"
   ]
  },
  {
   "cell_type": "code",
   "execution_count": null,
   "id": "485a7f26",
   "metadata": {
    "execution": {
     "iopub.execute_input": "2024-03-12T15:58:02.713376Z",
     "iopub.status.busy": "2024-03-12T15:58:02.712490Z",
     "iopub.status.idle": "2024-03-12T15:58:02.925055Z",
     "shell.execute_reply": "2024-03-12T15:58:02.923899Z"
    },
    "papermill": {
     "duration": 0.306397,
     "end_time": "2024-03-12T15:58:02.927753",
     "exception": false,
     "start_time": "2024-03-12T15:58:02.621356",
     "status": "completed"
    },
    "tags": []
   },
   "outputs": [],
   "source": [
    "yp=model.predict(X_test)\n",
    "yp[:5]"
   ]
  },
  {
   "cell_type": "code",
   "execution_count": null,
   "id": "22ac62f2",
   "metadata": {
    "execution": {
     "iopub.execute_input": "2024-03-12T15:58:03.117154Z",
     "iopub.status.busy": "2024-03-12T15:58:03.116726Z",
     "iopub.status.idle": "2024-03-12T15:58:03.124786Z",
     "shell.execute_reply": "2024-03-12T15:58:03.123648Z"
    },
    "papermill": {
     "duration": 0.102928,
     "end_time": "2024-03-12T15:58:03.127199",
     "exception": false,
     "start_time": "2024-03-12T15:58:03.024271",
     "status": "completed"
    },
    "tags": []
   },
   "outputs": [],
   "source": [
    "Y_test[:10]"
   ]
  },
  {
   "cell_type": "code",
   "execution_count": 36,
   "id": "46d82de3",
   "metadata": {
    "execution": {
     "iopub.execute_input": "2024-03-12T15:58:03.311847Z",
     "iopub.status.busy": "2024-03-12T15:58:03.310779Z",
     "iopub.status.idle": "2024-03-12T15:58:03.320560Z",
     "shell.execute_reply": "2024-03-12T15:58:03.319758Z"
    },
    "papermill": {
     "duration": 0.105059,
     "end_time": "2024-03-12T15:58:03.322816",
     "exception": false,
     "start_time": "2024-03-12T15:58:03.217757",
     "status": "completed"
    },
    "tags": []
   },
   "outputs": [
    {
     "ename": "NameError",
     "evalue": "name 'yp' is not defined",
     "output_type": "error",
     "traceback": [
      "\u001b[1;31m---------------------------------------------------------------------------\u001b[0m",
      "\u001b[1;31mNameError\u001b[0m                                 Traceback (most recent call last)",
      "Cell \u001b[1;32mIn[36], line 2\u001b[0m\n\u001b[0;32m      1\u001b[0m y_pred\u001b[38;5;241m=\u001b[39m[]\n\u001b[1;32m----> 2\u001b[0m \u001b[38;5;28;01mfor\u001b[39;00m element \u001b[38;5;129;01min\u001b[39;00m yp:\n\u001b[0;32m      3\u001b[0m     \u001b[38;5;28;01mif\u001b[39;00m element\u001b[38;5;241m>\u001b[39m\u001b[38;5;241m0.5\u001b[39m:\n\u001b[0;32m      4\u001b[0m         y_pred\u001b[38;5;241m.\u001b[39mappend(\u001b[38;5;241m1\u001b[39m)\n",
      "\u001b[1;31mNameError\u001b[0m: name 'yp' is not defined"
     ]
    }
   ],
   "source": [
    "y_pred=[]\n",
    "for element in yp:\n",
    "    if element>0.5:\n",
    "        y_pred.append(1)\n",
    "    else:\n",
    "        y_pred.append(0)"
   ]
  },
  {
   "cell_type": "code",
   "execution_count": 37,
   "id": "130f5fe2",
   "metadata": {
    "execution": {
     "iopub.execute_input": "2024-03-12T15:58:03.507642Z",
     "iopub.status.busy": "2024-03-12T15:58:03.506418Z",
     "iopub.status.idle": "2024-03-12T15:58:03.513963Z",
     "shell.execute_reply": "2024-03-12T15:58:03.512882Z"
    },
    "papermill": {
     "duration": 0.102601,
     "end_time": "2024-03-12T15:58:03.516412",
     "exception": false,
     "start_time": "2024-03-12T15:58:03.413811",
     "status": "completed"
    },
    "tags": []
   },
   "outputs": [
    {
     "data": {
      "text/plain": [
       "[]"
      ]
     },
     "execution_count": 37,
     "metadata": {},
     "output_type": "execute_result"
    }
   ],
   "source": [
    "y_pred[:10]"
   ]
  },
  {
   "cell_type": "code",
   "execution_count": 38,
   "id": "bbef929c",
   "metadata": {
    "execution": {
     "iopub.execute_input": "2024-03-12T15:58:03.698498Z",
     "iopub.status.busy": "2024-03-12T15:58:03.698094Z",
     "iopub.status.idle": "2024-03-12T15:58:03.718128Z",
     "shell.execute_reply": "2024-03-12T15:58:03.716738Z"
    },
    "papermill": {
     "duration": 0.11416,
     "end_time": "2024-03-12T15:58:03.720679",
     "exception": false,
     "start_time": "2024-03-12T15:58:03.606519",
     "status": "completed"
    },
    "tags": []
   },
   "outputs": [
    {
     "ename": "NameError",
     "evalue": "name 'Y_test' is not defined",
     "output_type": "error",
     "traceback": [
      "\u001b[1;31m---------------------------------------------------------------------------\u001b[0m",
      "\u001b[1;31mNameError\u001b[0m                                 Traceback (most recent call last)",
      "Cell \u001b[1;32mIn[38], line 2\u001b[0m\n\u001b[0;32m      1\u001b[0m \u001b[38;5;28;01mfrom\u001b[39;00m \u001b[38;5;21;01msklearn\u001b[39;00m\u001b[38;5;21;01m.\u001b[39;00m\u001b[38;5;21;01mmetrics\u001b[39;00m \u001b[38;5;28;01mimport\u001b[39;00m confusion_matrix,classification_report\n\u001b[1;32m----> 2\u001b[0m \u001b[38;5;28mprint\u001b[39m(classification_report(Y_test,y_pred))\n",
      "\u001b[1;31mNameError\u001b[0m: name 'Y_test' is not defined"
     ]
    }
   ],
   "source": [
    "from sklearn.metrics import confusion_matrix,classification_report\n",
    "print(classification_report(Y_test,y_pred))"
   ]
  },
  {
   "cell_type": "code",
   "execution_count": null,
   "id": "ea45a6f7",
   "metadata": {
    "execution": {
     "iopub.execute_input": "2024-03-12T15:58:03.911518Z",
     "iopub.status.busy": "2024-03-12T15:58:03.911100Z",
     "iopub.status.idle": "2024-03-12T15:58:04.610417Z",
     "shell.execute_reply": "2024-03-12T15:58:04.609331Z"
    },
    "papermill": {
     "duration": 0.794015,
     "end_time": "2024-03-12T15:58:04.612941",
     "exception": false,
     "start_time": "2024-03-12T15:58:03.818926",
     "status": "completed"
    },
    "tags": []
   },
   "outputs": [],
   "source": [
    " import seaborn as sn\n",
    "cm=tf.math.confusion_matrix(labels=Y_test,predictions=y_pred)\n",
    "\n",
    "plt.figure(figsize=(10,7))\n",
    "sn.heatmap(cm,annot=True,fmt='d')\n",
    "plt.xlabel('predicted')\n",
    "plt.ylabel('Truth')"
   ]
  },
  {
   "cell_type": "markdown",
   "id": "cf8bd432",
   "metadata": {
    "papermill": {
     "duration": 0.0908,
     "end_time": "2024-03-12T15:58:04.795348",
     "exception": false,
     "start_time": "2024-03-12T15:58:04.704548",
     "status": "completed"
    },
    "tags": []
   },
   "source": [
    "ACCURACY"
   ]
  },
  {
   "cell_type": "code",
   "execution_count": null,
   "id": "893351e1",
   "metadata": {
    "execution": {
     "iopub.execute_input": "2024-03-12T15:58:04.977915Z",
     "iopub.status.busy": "2024-03-12T15:58:04.977510Z",
     "iopub.status.idle": "2024-03-12T15:58:04.987020Z",
     "shell.execute_reply": "2024-03-12T15:58:04.985838Z"
    },
    "papermill": {
     "duration": 0.103797,
     "end_time": "2024-03-12T15:58:04.989165",
     "exception": false,
     "start_time": "2024-03-12T15:58:04.885368",
     "status": "completed"
    },
    "tags": []
   },
   "outputs": [],
   "source": [
    "round((872+218)/(872+127+190+218),2)"
   ]
  },
  {
   "cell_type": "markdown",
   "id": "df596925",
   "metadata": {
    "papermill": {
     "duration": 0.092552,
     "end_time": "2024-03-12T15:58:05.173122",
     "exception": false,
     "start_time": "2024-03-12T15:58:05.080570",
     "status": "completed"
    },
    "tags": []
   },
   "source": [
    "PRECISION FOR 0 CLASS\n",
    "****"
   ]
  },
  {
   "cell_type": "code",
   "execution_count": null,
   "id": "f3294f8f",
   "metadata": {
    "execution": {
     "iopub.execute_input": "2024-03-12T15:58:05.360439Z",
     "iopub.status.busy": "2024-03-12T15:58:05.360023Z",
     "iopub.status.idle": "2024-03-12T15:58:05.367022Z",
     "shell.execute_reply": "2024-03-12T15:58:05.365919Z"
    },
    "papermill": {
     "duration": 0.103938,
     "end_time": "2024-03-12T15:58:05.369377",
     "exception": false,
     "start_time": "2024-03-12T15:58:05.265439",
     "status": "completed"
    },
    "tags": []
   },
   "outputs": [],
   "source": [
    "round((872/(872+190)))"
   ]
  },
  {
   "cell_type": "code",
   "execution_count": null,
   "id": "d1db067b",
   "metadata": {
    "papermill": {
     "duration": 0.092542,
     "end_time": "2024-03-12T15:58:05.553200",
     "exception": false,
     "start_time": "2024-03-12T15:58:05.460658",
     "status": "completed"
    },
    "tags": []
   },
   "outputs": [],
   "source": []
  }
 ],
 "metadata": {
  "kaggle": {
   "accelerator": "none",
   "dataSources": [
    {
     "datasetId": 13996,
     "sourceId": 18858,
     "sourceType": "datasetVersion"
    }
   ],
   "dockerImageVersionId": 30664,
   "isGpuEnabled": false,
   "isInternetEnabled": true,
   "language": "python",
   "sourceType": "notebook"
  },
  "kernelspec": {
   "display_name": "Python 3 (ipykernel)",
   "language": "python",
   "name": "python3"
  },
  "language_info": {
   "codemirror_mode": {
    "name": "ipython",
    "version": 3
   },
   "file_extension": ".py",
   "mimetype": "text/x-python",
   "name": "python",
   "nbconvert_exporter": "python",
   "pygments_lexer": "ipython3",
   "version": "3.11.4"
  },
  "papermill": {
   "default_parameters": {},
   "duration": 57.96826,
   "end_time": "2024-03-12T15:58:07.271971",
   "environment_variables": {},
   "exception": null,
   "input_path": "__notebook__.ipynb",
   "output_path": "__notebook__.ipynb",
   "parameters": {},
   "start_time": "2024-03-12T15:57:09.303711",
   "version": "2.5.0"
  }
 },
 "nbformat": 4,
 "nbformat_minor": 5
}
